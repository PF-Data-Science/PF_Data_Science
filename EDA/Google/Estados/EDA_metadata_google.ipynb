{
 "cells": [
  {
   "cell_type": "code",
   "execution_count": 1,
   "metadata": {},
   "outputs": [],
   "source": [
    "import pandas as pd\n",
    "import numpy as np\n",
    "import matplotlib.pyplot as plt\n",
    "import seaborn as sns \n",
    "import json\n",
    "import re\n",
    "import plotly.express as px"
   ]
  },
  {
   "cell_type": "markdown",
   "metadata": {},
   "source": [
    "## Importo los archivos de metadata por separado "
   ]
  },
  {
   "cell_type": "code",
   "execution_count": 2,
   "metadata": {},
   "outputs": [],
   "source": [
    "ruta_archivo = 'Google/metadata-sitios/2.json'\n",
    "\n",
    "# Lee el contenido del archivo JSON línea por línea\n",
    "datos_json = []\n",
    "with open(ruta_archivo, 'r') as archivo:\n",
    "    for linea in archivo:\n",
    "        datos_json.append(json.loads(linea))\n",
    "\n",
    "# Convierte los datos en un DataFrame de pandas\n",
    "df2 = pd.DataFrame(datos_json)"
   ]
  },
  {
   "cell_type": "code",
   "execution_count": 3,
   "metadata": {},
   "outputs": [],
   "source": [
    "ruta_archivo = 'Google/metadata-sitios/3.json'\n",
    "\n",
    "# Lee el contenido del archivo JSON línea por línea\n",
    "datos_json = []\n",
    "with open(ruta_archivo, 'r') as archivo:\n",
    "    for linea in archivo:\n",
    "        datos_json.append(json.loads(linea))\n",
    "\n",
    "# Convierte los datos en un DataFrame de pandas\n",
    "df3 = pd.DataFrame(datos_json)"
   ]
  },
  {
   "cell_type": "code",
   "execution_count": 4,
   "metadata": {},
   "outputs": [],
   "source": [
    "ruta_archivo = 'Google/metadata-sitios/4.json'\n",
    "\n",
    "# Lee el contenido del archivo JSON línea por línea\n",
    "datos_json = []\n",
    "with open(ruta_archivo, 'r') as archivo:\n",
    "    for linea in archivo:\n",
    "        datos_json.append(json.loads(linea))\n",
    "\n",
    "# Convierte los datos en un DataFrame de pandas\n",
    "df4 = pd.DataFrame(datos_json)"
   ]
  },
  {
   "cell_type": "code",
   "execution_count": 5,
   "metadata": {},
   "outputs": [],
   "source": [
    "ruta_archivo = 'Google/metadata-sitios/5.json'\n",
    "\n",
    "# Lee el contenido del archivo JSON línea por línea\n",
    "datos_json = []\n",
    "with open(ruta_archivo, 'r') as archivo:\n",
    "    for linea in archivo:\n",
    "        datos_json.append(json.loads(linea))\n",
    "\n",
    "# Convierte los datos en un DataFrame de pandas\n",
    "df5 = pd.DataFrame(datos_json)"
   ]
  },
  {
   "cell_type": "code",
   "execution_count": 6,
   "metadata": {},
   "outputs": [],
   "source": [
    "ruta_archivo = 'Google/metadata-sitios/6.json'\n",
    "\n",
    "# Lee el contenido del archivo JSON línea por línea\n",
    "datos_json = []\n",
    "with open(ruta_archivo, 'r') as archivo:\n",
    "    for linea in archivo:\n",
    "        datos_json.append(json.loads(linea))\n",
    "\n",
    "# Convierte los datos en un DataFrame de pandas\n",
    "df6 = pd.DataFrame(datos_json)"
   ]
  },
  {
   "cell_type": "code",
   "execution_count": 7,
   "metadata": {},
   "outputs": [],
   "source": [
    "ruta_archivo = 'Google/metadata-sitios/7.json'\n",
    "\n",
    "# Lee el contenido del archivo JSON línea por línea\n",
    "datos_json = []\n",
    "with open(ruta_archivo, 'r') as archivo:\n",
    "    for linea in archivo:\n",
    "        datos_json.append(json.loads(linea))\n",
    "\n",
    "# Convierte los datos en un DataFrame de pandas\n",
    "df7 = pd.DataFrame(datos_json)"
   ]
  },
  {
   "cell_type": "code",
   "execution_count": 8,
   "metadata": {},
   "outputs": [],
   "source": [
    "ruta_archivo = 'Google/metadata-sitios/8.json'\n",
    "\n",
    "# Lee el contenido del archivo JSON línea por línea\n",
    "datos_json = []\n",
    "with open(ruta_archivo, 'r') as archivo:\n",
    "    for linea in archivo:\n",
    "        datos_json.append(json.loads(linea))\n",
    "\n",
    "# Convierte los datos en un DataFrame de pandas\n",
    "df8 = pd.DataFrame(datos_json)"
   ]
  },
  {
   "cell_type": "code",
   "execution_count": 9,
   "metadata": {},
   "outputs": [],
   "source": [
    "ruta_archivo = 'Google/metadata-sitios/9.json'\n",
    "\n",
    "# Lee el contenido del archivo JSON línea por línea\n",
    "datos_json = []\n",
    "with open(ruta_archivo, 'r') as archivo:\n",
    "    for linea in archivo:\n",
    "        datos_json.append(json.loads(linea))\n",
    "\n",
    "# Convierte los datos en un DataFrame de pandas\n",
    "df9 = pd.DataFrame(datos_json)"
   ]
  },
  {
   "cell_type": "code",
   "execution_count": 10,
   "metadata": {},
   "outputs": [],
   "source": [
    "ruta_archivo = 'Google/metadata-sitios/10.json'\n",
    "\n",
    "# Lee el contenido del archivo JSON línea por línea\n",
    "datos_json = []\n",
    "with open(ruta_archivo, 'r') as archivo:\n",
    "    for linea in archivo:\n",
    "        datos_json.append(json.loads(linea))\n",
    "\n",
    "# Convierte los datos en un DataFrame de pandas\n",
    "df10 = pd.DataFrame(datos_json)"
   ]
  },
  {
   "cell_type": "code",
   "execution_count": 11,
   "metadata": {},
   "outputs": [],
   "source": [
    "ruta_archivo = 'Google/metadata-sitios/11.json'\n",
    "\n",
    "# Lee el contenido del archivo JSON línea por línea\n",
    "datos_json = []\n",
    "with open(ruta_archivo, 'r') as archivo:\n",
    "    for linea in archivo:\n",
    "        datos_json.append(json.loads(linea))\n",
    "\n",
    "# Convierte los datos en un DataFrame de pandas\n",
    "df11 = pd.DataFrame(datos_json)"
   ]
  },
  {
   "cell_type": "code",
   "execution_count": 12,
   "metadata": {},
   "outputs": [],
   "source": [
    "ruta_archivo = 'Google/metadata-sitios/1.json'\n",
    "\n",
    "# Lee el contenido del archivo JSON línea por línea\n",
    "datos_json = []\n",
    "with open(ruta_archivo, 'r') as archivo:\n",
    "    for linea in archivo:\n",
    "        datos_json.append(json.loads(linea))\n",
    "\n",
    "# Convierte los datos en un DataFrame de pandas\n",
    "df1 = pd.DataFrame(datos_json)"
   ]
  },
  {
   "cell_type": "markdown",
   "metadata": {},
   "source": [
    "## Creo funcion que extrae estado"
   ]
  },
  {
   "cell_type": "code",
   "execution_count": 13,
   "metadata": {},
   "outputs": [],
   "source": [
    "def extract_state(address):\n",
    "    if address is not None:\n",
    "        # Utilizar expresión regular para encontrar la cuarta sección y eliminar los números\n",
    "        parts = address.split(\",\")\n",
    "        if len(parts) >= 4:\n",
    "            match = re.search(r'[A-Za-z]+', parts[3])\n",
    "            if match:\n",
    "                return match.group()\n",
    "    return None\n"
   ]
  },
  {
   "cell_type": "markdown",
   "metadata": {},
   "source": [
    "## Extraigo Estado de la columna address, me quedo con las filas que perteneces a los estados de interes"
   ]
  },
  {
   "cell_type": "code",
   "execution_count": 14,
   "metadata": {},
   "outputs": [],
   "source": [
    "\n",
    "df1f=df1\n",
    "# Aplicar la función a cada valor de la columna 'address' y guardar los resultados en una nueva columna 'estado'\n",
    "df1f['estado'] = df1f['address'].apply(extract_state)\n",
    "# Lista de estados de interés con sus abreviaturas de dos letras\n",
    "estados_interes = ['PA', 'HI', 'NY', 'WA', 'FL', 'UT', 'CA', 'TX']\n",
    "# Eliminar la columna 'address'\n",
    "df1f.drop(columns=['address'], inplace=True)\n",
    "# Filtrar las filas que tienen los estados de interés\n",
    "df_filtrado1 = df1f[df1f['estado'].isin(estados_interes)]\n"
   ]
  },
  {
   "cell_type": "code",
   "execution_count": 15,
   "metadata": {},
   "outputs": [],
   "source": [
    "\n",
    "df2f=df2\n",
    "# Aplicar la función a cada valor de la columna 'address' y guardar los resultados en una nueva columna 'estado'\n",
    "df2f['estado'] = df2f['address'].apply(extract_state)\n",
    "# Lista de estados de interés con sus abreviaturas de dos letras\n",
    "estados_interes = ['PA', 'HI', 'NY', 'WA', 'FL', 'UT', 'CA', 'TX']\n",
    "# Eliminar la columna 'address'\n",
    "df2f.drop(columns=['address'], inplace=True)\n",
    "# Filtrar las filas que tienen los estados de interés\n",
    "df_filtrado2 = df2f[df2f['estado'].isin(estados_interes)]"
   ]
  },
  {
   "cell_type": "code",
   "execution_count": 16,
   "metadata": {},
   "outputs": [],
   "source": [
    "df3f = df3.copy()\n",
    "df3f['estado'] = df3f['address'].apply(extract_state)\n",
    "estados_interes = ['PA', 'HI', 'NY', 'WA', 'FL', 'UT', 'CA', 'TX']\n",
    "df3f.drop(columns=['address'], inplace=True)\n",
    "df_filtrado3 = df3f[df3f['estado'].isin(estados_interes)]"
   ]
  },
  {
   "cell_type": "code",
   "execution_count": 17,
   "metadata": {},
   "outputs": [],
   "source": [
    "df4f = df4.copy()\n",
    "df4f['estado'] = df4f['address'].apply(extract_state)\n",
    "estados_interes = ['PA', 'HI', 'NY', 'WA', 'FL', 'UT', 'CA', 'TX']\n",
    "df4f.drop(columns=['address'], inplace=True)\n",
    "df_filtrado4 = df4f[df4f['estado'].isin(estados_interes)]"
   ]
  },
  {
   "cell_type": "code",
   "execution_count": 18,
   "metadata": {},
   "outputs": [],
   "source": [
    "df5f = df5.copy()\n",
    "df5f['estado'] = df5f['address'].apply(extract_state)\n",
    "estados_interes = ['PA', 'HI', 'NY', 'WA', 'FL', 'UT', 'CA', 'TX']\n",
    "df5f.drop(columns=['address'], inplace=True)\n",
    "df_filtrado5 = df5f[df5f['estado'].isin(estados_interes)]"
   ]
  },
  {
   "cell_type": "code",
   "execution_count": 19,
   "metadata": {},
   "outputs": [],
   "source": [
    "df6f = df6.copy()\n",
    "df6f['estado'] = df6f['address'].apply(extract_state)\n",
    "estados_interes = ['PA', 'HI', 'NY', 'WA', 'FL', 'UT', 'CA', 'TX']\n",
    "df6f.drop(columns=['address'], inplace=True)\n",
    "df_filtrado6 = df6f[df6f['estado'].isin(estados_interes)]"
   ]
  },
  {
   "cell_type": "code",
   "execution_count": 20,
   "metadata": {},
   "outputs": [],
   "source": [
    "df7f = df7.copy()\n",
    "df7f['estado'] = df7f['address'].apply(extract_state)\n",
    "estados_interes = ['PA', 'HI', 'NY', 'WA', 'FL', 'UT', 'CA', 'TX']\n",
    "df7f.drop(columns=['address'], inplace=True)\n",
    "df_filtrado7 = df7f[df7f['estado'].isin(estados_interes)]"
   ]
  },
  {
   "cell_type": "code",
   "execution_count": 21,
   "metadata": {},
   "outputs": [],
   "source": [
    "df8f = df8.copy()\n",
    "df8f['estado'] = df8f['address'].apply(extract_state)\n",
    "estados_interes = ['PA', 'HI', 'NY', 'WA', 'FL', 'UT', 'CA', 'TX']\n",
    "df8f.drop(columns=['address'], inplace=True)\n",
    "df_filtrado8 = df8f[df8f['estado'].isin(estados_interes)]"
   ]
  },
  {
   "cell_type": "code",
   "execution_count": 22,
   "metadata": {},
   "outputs": [],
   "source": [
    "df9f = df9.copy()\n",
    "df9f['estado'] = df9f['address'].apply(extract_state)\n",
    "estados_interes = ['PA', 'HI', 'NY', 'WA', 'FL', 'UT', 'CA', 'TX']\n",
    "df9f.drop(columns=['address'], inplace=True)\n",
    "df_filtrado9 = df9f[df9f['estado'].isin(estados_interes)]"
   ]
  },
  {
   "cell_type": "code",
   "execution_count": 23,
   "metadata": {},
   "outputs": [],
   "source": [
    "df10f = df10.copy()\n",
    "df10f['estado'] = df10f['address'].apply(extract_state)\n",
    "estados_interes = ['PA', 'HI', 'NY', 'WA', 'FL', 'UT', 'CA', 'TX']\n",
    "df10f.drop(columns=['address'], inplace=True)\n",
    "df_filtrado10 = df10f[df10f['estado'].isin(estados_interes)]"
   ]
  },
  {
   "cell_type": "code",
   "execution_count": 24,
   "metadata": {},
   "outputs": [],
   "source": [
    "df11f = df11.copy()\n",
    "df11f['estado'] = df11f['address'].apply(extract_state)\n",
    "estados_interes = ['PA', 'HI', 'NY', 'WA', 'FL', 'UT', 'CA', 'TX']\n",
    "df11f.drop(columns=['address'], inplace=True)\n",
    "df_filtrado11 = df11f[df11f['estado'].isin(estados_interes)]"
   ]
  },
  {
   "cell_type": "markdown",
   "metadata": {},
   "source": [
    "## Uno los df anteriores, veo la informacion resultante y extraigo como json el resultado"
   ]
  },
  {
   "cell_type": "code",
   "execution_count": 25,
   "metadata": {},
   "outputs": [],
   "source": [
    "# Crear una lista de DataFrames\n",
    "lista_df_filtrados = [df_filtrado1, df_filtrado2, df_filtrado3, df_filtrado4, df_filtrado5, df_filtrado6, df_filtrado7, df_filtrado8, df_filtrado9, df_filtrado10, df_filtrado11]\n",
    "\n",
    "# Concatenar los DataFrames de la lista\n",
    "df_concatenado = pd.concat(lista_df_filtrados, ignore_index=True)"
   ]
  },
  {
   "cell_type": "code",
   "execution_count": 26,
   "metadata": {},
   "outputs": [
    {
     "name": "stdout",
     "output_type": "stream",
     "text": [
      "<class 'pandas.core.frame.DataFrame'>\n",
      "RangeIndex: 1050830 entries, 0 to 1050829\n",
      "Data columns (total 15 columns):\n",
      " #   Column            Non-Null Count    Dtype  \n",
      "---  ------            --------------    -----  \n",
      " 0   name              1050830 non-null  object \n",
      " 1   gmap_id           1050830 non-null  object \n",
      " 2   description       104508 non-null   object \n",
      " 3   latitude          1050830 non-null  float64\n",
      " 4   longitude         1050830 non-null  float64\n",
      " 5   category          1044722 non-null  object \n",
      " 6   avg_rating        1050830 non-null  float64\n",
      " 7   num_of_reviews    1050830 non-null  int64  \n",
      " 8   price             109566 non-null   object \n",
      " 9   hours             814320 non-null   object \n",
      " 10  MISC              844065 non-null   object \n",
      " 11  state             827061 non-null   object \n",
      " 12  relative_results  961546 non-null   object \n",
      " 13  url               1050830 non-null  object \n",
      " 14  estado            1050830 non-null  object \n",
      "dtypes: float64(3), int64(1), object(11)\n",
      "memory usage: 120.3+ MB\n"
     ]
    }
   ],
   "source": [
    "df_concatenado.info()"
   ]
  },
  {
   "cell_type": "code",
   "execution_count": 27,
   "metadata": {},
   "outputs": [],
   "source": [
    "df_concatenado.to_json('df_concatenado.json', orient='records')"
   ]
  },
  {
   "cell_type": "markdown",
   "metadata": {},
   "source": [
    "## Evaluamos las columnas y cantidad de nulos"
   ]
  },
  {
   "cell_type": "code",
   "execution_count": 2,
   "metadata": {},
   "outputs": [],
   "source": [
    "with open('df_concatenado.json', 'r') as archivo_json:\n",
    "    datos_json = json.load(archivo_json)\n",
    "metadata = pd.DataFrame(datos_json)"
   ]
  },
  {
   "cell_type": "code",
   "execution_count": 17,
   "metadata": {},
   "outputs": [
    {
     "data": {
      "text/html": [
       "<div>\n",
       "<style scoped>\n",
       "    .dataframe tbody tr th:only-of-type {\n",
       "        vertical-align: middle;\n",
       "    }\n",
       "\n",
       "    .dataframe tbody tr th {\n",
       "        vertical-align: top;\n",
       "    }\n",
       "\n",
       "    .dataframe thead th {\n",
       "        text-align: right;\n",
       "    }\n",
       "</style>\n",
       "<table border=\"1\" class=\"dataframe\">\n",
       "  <thead>\n",
       "    <tr style=\"text-align: right;\">\n",
       "      <th></th>\n",
       "      <th>name</th>\n",
       "      <th>gmap_id</th>\n",
       "      <th>description</th>\n",
       "      <th>latitude</th>\n",
       "      <th>longitude</th>\n",
       "      <th>category</th>\n",
       "      <th>avg_rating</th>\n",
       "      <th>num_of_reviews</th>\n",
       "      <th>price</th>\n",
       "      <th>hours</th>\n",
       "      <th>MISC</th>\n",
       "      <th>state</th>\n",
       "      <th>relative_results</th>\n",
       "      <th>url</th>\n",
       "      <th>estado</th>\n",
       "    </tr>\n",
       "  </thead>\n",
       "  <tbody>\n",
       "    <tr>\n",
       "      <th>0</th>\n",
       "      <td>City Textile</td>\n",
       "      <td>0x80c2c98c0e3c16fd:0x29ec8a728764fdf9</td>\n",
       "      <td>None</td>\n",
       "      <td>34.018891</td>\n",
       "      <td>-118.215290</td>\n",
       "      <td>Textile exporter</td>\n",
       "      <td>4.5</td>\n",
       "      <td>6</td>\n",
       "      <td>None</td>\n",
       "      <td>None</td>\n",
       "      <td>None</td>\n",
       "      <td>Open now</td>\n",
       "      <td>[0x80c2c624136ea88b:0xb0315367ed448771, 0x80c2...</td>\n",
       "      <td>https://www.google.com/maps/place//data=!4m2!3...</td>\n",
       "      <td>CA</td>\n",
       "    </tr>\n",
       "    <tr>\n",
       "      <th>1</th>\n",
       "      <td>San Soo Dang</td>\n",
       "      <td>0x80c2c778e3b73d33:0xbdc58662a4a97d49</td>\n",
       "      <td>None</td>\n",
       "      <td>34.058092</td>\n",
       "      <td>-118.292130</td>\n",
       "      <td>Korean restaurant</td>\n",
       "      <td>4.4</td>\n",
       "      <td>18</td>\n",
       "      <td>None</td>\n",
       "      <td>[[Thursday, 6:30AM–6PM], [Friday, 6:30AM–6PM],...</td>\n",
       "      <td>{'Service options': ['Takeout', 'Dine-in', 'De...</td>\n",
       "      <td>Open ⋅ Closes 6PM</td>\n",
       "      <td>[0x80c2c78249aba68f:0x35bf16ce61be751d, 0x80c2...</td>\n",
       "      <td>https://www.google.com/maps/place//data=!4m2!3...</td>\n",
       "      <td>CA</td>\n",
       "    </tr>\n",
       "    <tr>\n",
       "      <th>2</th>\n",
       "      <td>Nova Fabrics</td>\n",
       "      <td>0x80c2c89923b27a41:0x32041559418d447</td>\n",
       "      <td>None</td>\n",
       "      <td>34.023669</td>\n",
       "      <td>-118.232930</td>\n",
       "      <td>Fabric store</td>\n",
       "      <td>3.3</td>\n",
       "      <td>6</td>\n",
       "      <td>None</td>\n",
       "      <td>[[Thursday, 9AM–5PM], [Friday, 9AM–5PM], [Satu...</td>\n",
       "      <td>{'Service options': ['In-store shopping'], 'Pa...</td>\n",
       "      <td>Open ⋅ Closes 5PM</td>\n",
       "      <td>[0x80c2c8811477253f:0x23a8a492df1918f7, 0x80c2...</td>\n",
       "      <td>https://www.google.com/maps/place//data=!4m2!3...</td>\n",
       "      <td>CA</td>\n",
       "    </tr>\n",
       "    <tr>\n",
       "      <th>3</th>\n",
       "      <td>Nobel Textile Co</td>\n",
       "      <td>0x80c2c632f933b073:0xc31785961fe826a6</td>\n",
       "      <td>None</td>\n",
       "      <td>34.036694</td>\n",
       "      <td>-118.249421</td>\n",
       "      <td>Fabric store</td>\n",
       "      <td>4.3</td>\n",
       "      <td>7</td>\n",
       "      <td>None</td>\n",
       "      <td>[[Thursday, 9AM–5PM], [Friday, 9AM–5PM], [Satu...</td>\n",
       "      <td>{'Service options': ['In-store pickup']}</td>\n",
       "      <td>Open ⋅ Closes 5PM</td>\n",
       "      <td>[0x80c2c62c496083d1:0xdefa11317fe870a1, 0x80c2...</td>\n",
       "      <td>https://www.google.com/maps/place//data=!4m2!3...</td>\n",
       "      <td>CA</td>\n",
       "    </tr>\n",
       "    <tr>\n",
       "      <th>4</th>\n",
       "      <td>Matrix International Textiles</td>\n",
       "      <td>0x80c2cf163db6bc89:0x219484e2edbcfa41</td>\n",
       "      <td>None</td>\n",
       "      <td>34.015505</td>\n",
       "      <td>-118.181839</td>\n",
       "      <td>Fabric store</td>\n",
       "      <td>3.5</td>\n",
       "      <td>6</td>\n",
       "      <td>None</td>\n",
       "      <td>[[Thursday, 8:30AM–5:30PM], [Friday, 8:30AM–5:...</td>\n",
       "      <td>{'Accessibility': ['Wheelchair accessible entr...</td>\n",
       "      <td>Open ⋅ Closes 5:30PM</td>\n",
       "      <td>[0x80c2cf042a5d9561:0xd0024ad6f81f1335, 0x80c2...</td>\n",
       "      <td>https://www.google.com/maps/place//data=!4m2!3...</td>\n",
       "      <td>CA</td>\n",
       "    </tr>\n",
       "  </tbody>\n",
       "</table>\n",
       "</div>"
      ],
      "text/plain": [
       "                            name                                gmap_id  \\\n",
       "0                   City Textile  0x80c2c98c0e3c16fd:0x29ec8a728764fdf9   \n",
       "1                   San Soo Dang  0x80c2c778e3b73d33:0xbdc58662a4a97d49   \n",
       "2                   Nova Fabrics   0x80c2c89923b27a41:0x32041559418d447   \n",
       "3               Nobel Textile Co  0x80c2c632f933b073:0xc31785961fe826a6   \n",
       "4  Matrix International Textiles  0x80c2cf163db6bc89:0x219484e2edbcfa41   \n",
       "\n",
       "  description   latitude   longitude           category  avg_rating  \\\n",
       "0        None  34.018891 -118.215290   Textile exporter         4.5   \n",
       "1        None  34.058092 -118.292130  Korean restaurant         4.4   \n",
       "2        None  34.023669 -118.232930       Fabric store         3.3   \n",
       "3        None  34.036694 -118.249421       Fabric store         4.3   \n",
       "4        None  34.015505 -118.181839       Fabric store         3.5   \n",
       "\n",
       "   num_of_reviews price                                              hours  \\\n",
       "0               6  None                                               None   \n",
       "1              18  None  [[Thursday, 6:30AM–6PM], [Friday, 6:30AM–6PM],...   \n",
       "2               6  None  [[Thursday, 9AM–5PM], [Friday, 9AM–5PM], [Satu...   \n",
       "3               7  None  [[Thursday, 9AM–5PM], [Friday, 9AM–5PM], [Satu...   \n",
       "4               6  None  [[Thursday, 8:30AM–5:30PM], [Friday, 8:30AM–5:...   \n",
       "\n",
       "                                                MISC                 state  \\\n",
       "0                                               None              Open now   \n",
       "1  {'Service options': ['Takeout', 'Dine-in', 'De...     Open ⋅ Closes 6PM   \n",
       "2  {'Service options': ['In-store shopping'], 'Pa...     Open ⋅ Closes 5PM   \n",
       "3           {'Service options': ['In-store pickup']}     Open ⋅ Closes 5PM   \n",
       "4  {'Accessibility': ['Wheelchair accessible entr...  Open ⋅ Closes 5:30PM   \n",
       "\n",
       "                                    relative_results  \\\n",
       "0  [0x80c2c624136ea88b:0xb0315367ed448771, 0x80c2...   \n",
       "1  [0x80c2c78249aba68f:0x35bf16ce61be751d, 0x80c2...   \n",
       "2  [0x80c2c8811477253f:0x23a8a492df1918f7, 0x80c2...   \n",
       "3  [0x80c2c62c496083d1:0xdefa11317fe870a1, 0x80c2...   \n",
       "4  [0x80c2cf042a5d9561:0xd0024ad6f81f1335, 0x80c2...   \n",
       "\n",
       "                                                 url estado  \n",
       "0  https://www.google.com/maps/place//data=!4m2!3...     CA  \n",
       "1  https://www.google.com/maps/place//data=!4m2!3...     CA  \n",
       "2  https://www.google.com/maps/place//data=!4m2!3...     CA  \n",
       "3  https://www.google.com/maps/place//data=!4m2!3...     CA  \n",
       "4  https://www.google.com/maps/place//data=!4m2!3...     CA  "
      ]
     },
     "execution_count": 17,
     "metadata": {},
     "output_type": "execute_result"
    }
   ],
   "source": [
    "metadata.head()"
   ]
  },
  {
   "cell_type": "code",
   "execution_count": 4,
   "metadata": {},
   "outputs": [
    {
     "data": {
      "image/png": "[encoded data removed]",
      "text/plain": [
       "<Figure size 1000x600 with 1 Axes>"
      ]
     },
     "metadata": {},
     "output_type": "display_data"
    }
   ],
   "source": [
    "# Calcular el número de valores nulos en cada columna\n",
    "nulos = metadata.isna().sum()\n",
    "\n",
    "# Configurar el estilo de Seaborn\n",
    "sns.set(style=\"whitegrid\")\n",
    "\n",
    "# Crear el gráfico de barras con Seaborn\n",
    "plt.figure(figsize=(10, 6))\n",
    "sns.barplot(x=nulos.index, y=nulos.values, palette='husl')\n",
    "plt.title('Cantidad de valores nulos por columna en df_Florida')\n",
    "plt.xlabel('Columnas')\n",
    "plt.ylabel('Cantidad de valores nulos')\n",
    "plt.xticks(rotation=45, ha='right')\n",
    "plt.tight_layout()\n",
    "plt.show()"
   ]
  },
  {
   "cell_type": "code",
   "execution_count": 5,
   "metadata": {},
   "outputs": [
    {
     "name": "stdout",
     "output_type": "stream",
     "text": [
      "Cantidad de valores nulos por columna en df_Florida:\n",
      "name: 0\n",
      "gmap_id: 0\n",
      "description: 946322\n",
      "latitude: 0\n",
      "longitude: 0\n",
      "category: 6108\n",
      "avg_rating: 0\n",
      "num_of_reviews: 0\n",
      "price: 941264\n",
      "hours: 236510\n",
      "MISC: 206765\n",
      "state: 223769\n",
      "relative_results: 89284\n",
      "url: 0\n",
      "estado: 0\n"
     ]
    }
   ],
   "source": [
    "# Mostrar el número de valores nulos en cada columna\n",
    "print(\"Cantidad de valores nulos por columna en df_Florida:\")\n",
    "for columna, cantidad in nulos.items():\n",
    "    print(f\"{columna}: {cantidad}\")"
   ]
  },
  {
   "cell_type": "code",
   "execution_count": 6,
   "metadata": {},
   "outputs": [
    {
     "name": "stdout",
     "output_type": "stream",
     "text": [
      "Porcentaje de valores nulos por columna en df_Florida:\n",
      "name: 0.00%\n",
      "gmap_id: 0.00%\n",
      "description: 90.05%\n",
      "latitude: 0.00%\n",
      "longitude: 0.00%\n",
      "category: 0.58%\n",
      "avg_rating: 0.00%\n",
      "num_of_reviews: 0.00%\n",
      "price: 89.57%\n",
      "hours: 22.51%\n",
      "MISC: 19.68%\n",
      "state: 21.29%\n",
      "relative_results: 8.50%\n",
      "url: 0.00%\n",
      "estado: 0.00%\n"
     ]
    }
   ],
   "source": [
    "total_filas = len(metadata)\n",
    "\n",
    "# Calcular el porcentaje de valores nulos en cada columna\n",
    "porcentaje_nulos = (metadata.isna().sum() / total_filas) * 100\n",
    "\n",
    "# Mostrar el porcentaje de valores nulos en cada columna\n",
    "print(\"Porcentaje de valores nulos por columna en df_Florida:\")\n",
    "for columna, porcentaje in porcentaje_nulos.items():\n",
    "    print(f\"{columna}: {porcentaje:.2f}%\")"
   ]
  },
  {
   "cell_type": "markdown",
   "metadata": {},
   "source": [
    "Evaluo la columna description para ver ese 10% de datos"
   ]
  },
  {
   "cell_type": "code",
   "execution_count": 7,
   "metadata": {},
   "outputs": [
    {
     "name": "stdout",
     "output_type": "stream",
     "text": [
      "Filas con valores no nulos en la columna 'description':\n",
      "9     Chain selling interior & exterior paints, prim...\n",
      "23    Wireless provider offering prepaid mobile phon...\n",
      "34    Chain retailer stocking household tools, suppl...\n",
      "41    Bubble tea shop offering hot & cold versions, ...\n",
      "50    Longtime boutique featuring high-quality Persi...\n",
      "Name: description, dtype: object\n"
     ]
    }
   ],
   "source": [
    "# Filtrar el DataFrame para obtener solo las filas donde la columna \"description\" no es nula\n",
    "descripcion_no_nula = metadata[metadata['description'].notnull()]\n",
    "\n",
    "# Imprimir algunas filas para evaluar el contenido de la columna \"description\"\n",
    "print(\"Filas con valores no nulos en la columna 'description':\")\n",
    "print(descripcion_no_nula['description'].head())"
   ]
  },
  {
   "cell_type": "markdown",
   "metadata": {},
   "source": [
    "Por los pocos datos de price y description, se decide eliminar de metadata esas columnas por su poca relevancia"
   ]
  },
  {
   "cell_type": "markdown",
   "metadata": {},
   "source": [
    "## Ahora evaluamos duplicados, basabdonos en la columna gmap_id"
   ]
  },
  {
   "cell_type": "code",
   "execution_count": 8,
   "metadata": {},
   "outputs": [
    {
     "name": "stdout",
     "output_type": "stream",
     "text": [
      "Cantidad de filas duplicadas basadas en la columna 'gmap_id':\n",
      "8798\n"
     ]
    }
   ],
   "source": [
    "# Calcular el número de filas duplicadas basadas en la columna 'gmap_id'\n",
    "filas_duplicadas = metadata.duplicated(subset=['gmap_id']).sum()\n",
    "\n",
    "# Mostrar la cantidad de filas duplicadas\n",
    "print(\"Cantidad de filas duplicadas basadas en la columna 'gmap_id':\")\n",
    "print(filas_duplicadas)"
   ]
  },
  {
   "cell_type": "markdown",
   "metadata": {},
   "source": [
    "## Ahora evaluamos la distribucion espacial de los locales"
   ]
  },
  {
   "cell_type": "code",
   "execution_count": 9,
   "metadata": {},
   "outputs": [
    {
     "name": "stdout",
     "output_type": "stream",
     "text": [
      "Número de filas por estado:\n",
      "estado\n",
      "CA    271567\n",
      "TX    236666\n",
      "FL    191767\n",
      "NY    146646\n",
      "PA    103607\n",
      "WA     61825\n",
      "UT     28556\n",
      "HI     10196\n",
      "Name: count, dtype: int64\n"
     ]
    }
   ],
   "source": [
    "# Contar el número de filas por estado\n",
    "conteo_por_estado = metadata['estado'].value_counts()\n",
    "\n",
    "# Mostrar el conteo por estado\n",
    "print(\"Número de filas por estado:\")\n",
    "print(conteo_por_estado)"
   ]
  },
  {
   "cell_type": "markdown",
   "metadata": {},
   "source": [
    "## Vemos de quedarnos solo con los locales del rubro gastronomico\n"
   ]
  },
  {
   "cell_type": "code",
   "execution_count": 3,
   "metadata": {},
   "outputs": [],
   "source": [
    "# Definir palabras clave asociadas al rubro gastronómico\n",
    "palabras_clave_gastronomico = ['restaurant', 'restaurants' , 'food', 'cafe', 'bar', 'bars' , 'bakery', 'fast food' , 'tacos' , 'salad' , 'bistro', 'diner', 'grill', 'eatery', 'pub', 'tavern', 'pizzeria', 'deli', 'snack bar', 'food truck' , 'pizza' , 'chicken', 'sushi', 'steakhouse', 'seafood', 'ramen', 'noodle bar', 'buffet', 'tapas', 'food court', 'burger joint', 'ice cream shop', 'coffee shop', 'juice bar', 'bagel shop', 'sandwich shop', 'creperie', 'hot dog stand', 'vegetarian', 'vegan', 'bbq', 'barbecue', 'ethnic restaurant', 'fine dining', 'casual dining', 'family restaurant', 'gastropub', 'brewpub', 'teahouse', 'dive bar', 'sports bar', 'wine bar', 'brewery', 'distillery', 'wine tasting room', 'brewpub', 'taproom', 'bottle shop', 'cocktail bar', 'karaoke bar', 'izakaya', 'fondue', 'hot pot ', 'hamburger', 'dim sum restaurant', 'fusion restaurant', 'hot dog', 'noodle shop', 'ramen', 'steak house', 'taco stand', 'taco restaurant']\n",
    "\n",
    "# Convertir las cadenas de texto a listas si es necesario\n",
    "metadata['category'] = metadata['category'].apply(lambda x: x.split(', ') if isinstance(x, str) else x)\n",
    "\n",
    "# Convertir las listas de categorías a strings separados por comas\n",
    "metadata['category'] = metadata['category'].apply(lambda x: ', '.join(x) if isinstance(x, list) else x)\n",
    "\n",
    "# Filtrar los valores nulos en el campo 'category'\n",
    "metadata = metadata.dropna(subset=['category'])\n",
    "\n",
    "# Filtrar el DataFrame para obtener solo las filas con categorías gastronómicas\n",
    "locales_gastronomicos = metadata[metadata['category'].apply(lambda x: any(keyword in x.lower() for keyword in palabras_clave_gastronomico))]\n"
   ]
  },
  {
   "cell_type": "code",
   "execution_count": 4,
   "metadata": {},
   "outputs": [
    {
     "name": "stdout",
     "output_type": "stream",
     "text": [
      "<class 'pandas.core.frame.DataFrame'>\n",
      "Index: 160391 entries, 1 to 1050827\n",
      "Data columns (total 15 columns):\n",
      " #   Column            Non-Null Count   Dtype  \n",
      "---  ------            --------------   -----  \n",
      " 0   name              160391 non-null  object \n",
      " 1   gmap_id           160391 non-null  object \n",
      " 2   description       42348 non-null   object \n",
      " 3   latitude          160391 non-null  float64\n",
      " 4   longitude         160391 non-null  float64\n",
      " 5   category          160391 non-null  object \n",
      " 6   avg_rating        160391 non-null  float64\n",
      " 7   num_of_reviews    160391 non-null  int64  \n",
      " 8   price             58347 non-null   object \n",
      " 9   hours             143877 non-null  object \n",
      " 10  MISC              153533 non-null  object \n",
      " 11  state             144440 non-null  object \n",
      " 12  relative_results  134255 non-null  object \n",
      " 13  url               160391 non-null  object \n",
      " 14  estado            160391 non-null  object \n",
      "dtypes: float64(3), int64(1), object(11)\n",
      "memory usage: 19.6+ MB\n"
     ]
    }
   ],
   "source": [
    "locales_gastronomicos.info()"
   ]
  },
  {
   "cell_type": "code",
   "execution_count": 5,
   "metadata": {},
   "outputs": [
    {
     "name": "stdout",
     "output_type": "stream",
     "text": [
      "Número de locales por estado:\n",
      "estado\n",
      "CA    43937\n",
      "TX    32317\n",
      "NY    30419\n",
      "FL    24436\n",
      "PA    15727\n",
      "WA     8635\n",
      "UT     2772\n",
      "HI     2148\n",
      "Name: count, dtype: int64\n"
     ]
    }
   ],
   "source": [
    "# Contar el número de filas por estado\n",
    "conteo_por_estado = locales_gastronomicos['estado'].value_counts()\n",
    "\n",
    "# Mostrar el conteo por estado\n",
    "print(\"Número de locales por estado:\")\n",
    "print(conteo_por_estado)"
   ]
  },
  {
   "cell_type": "code",
   "execution_count": 6,
   "metadata": {},
   "outputs": [
    {
     "data": {
      "text/html": [
       "<div>\n",
       "<style scoped>\n",
       "    .dataframe tbody tr th:only-of-type {\n",
       "        vertical-align: middle;\n",
       "    }\n",
       "\n",
       "    .dataframe tbody tr th {\n",
       "        vertical-align: top;\n",
       "    }\n",
       "\n",
       "    .dataframe thead th {\n",
       "        text-align: right;\n",
       "    }\n",
       "</style>\n",
       "<table border=\"1\" class=\"dataframe\">\n",
       "  <thead>\n",
       "    <tr style=\"text-align: right;\">\n",
       "      <th></th>\n",
       "      <th>name</th>\n",
       "      <th>gmap_id</th>\n",
       "      <th>description</th>\n",
       "      <th>latitude</th>\n",
       "      <th>longitude</th>\n",
       "      <th>category</th>\n",
       "      <th>avg_rating</th>\n",
       "      <th>num_of_reviews</th>\n",
       "      <th>price</th>\n",
       "      <th>hours</th>\n",
       "      <th>MISC</th>\n",
       "      <th>state</th>\n",
       "      <th>relative_results</th>\n",
       "      <th>url</th>\n",
       "      <th>estado</th>\n",
       "    </tr>\n",
       "  </thead>\n",
       "  <tbody>\n",
       "    <tr>\n",
       "      <th>1</th>\n",
       "      <td>San Soo Dang</td>\n",
       "      <td>0x80c2c778e3b73d33:0xbdc58662a4a97d49</td>\n",
       "      <td>None</td>\n",
       "      <td>34.058092</td>\n",
       "      <td>-118.292130</td>\n",
       "      <td>Korean restaurant</td>\n",
       "      <td>4.4</td>\n",
       "      <td>18</td>\n",
       "      <td>None</td>\n",
       "      <td>[[Thursday, 6:30AM–6PM], [Friday, 6:30AM–6PM],...</td>\n",
       "      <td>{'Service options': ['Takeout', 'Dine-in', 'De...</td>\n",
       "      <td>Open ⋅ Closes 6PM</td>\n",
       "      <td>[0x80c2c78249aba68f:0x35bf16ce61be751d, 0x80c2...</td>\n",
       "      <td>https://www.google.com/maps/place//data=!4m2!3...</td>\n",
       "      <td>CA</td>\n",
       "    </tr>\n",
       "    <tr>\n",
       "      <th>5</th>\n",
       "      <td>Vons Chicken</td>\n",
       "      <td>0x80dd2b4c8555edb7:0xfc33d65c4bdbef42</td>\n",
       "      <td>None</td>\n",
       "      <td>33.916402</td>\n",
       "      <td>-118.010855</td>\n",
       "      <td>Restaurant</td>\n",
       "      <td>4.5</td>\n",
       "      <td>18</td>\n",
       "      <td>None</td>\n",
       "      <td>[[Thursday, 11AM–9:30PM], [Friday, 11AM–9:30PM...</td>\n",
       "      <td>{'Service options': ['Outdoor seating', 'Curbs...</td>\n",
       "      <td>Open ⋅ Closes 9:30PM</td>\n",
       "      <td>None</td>\n",
       "      <td>https://www.google.com/maps/place//data=!4m2!3...</td>\n",
       "      <td>CA</td>\n",
       "    </tr>\n",
       "    <tr>\n",
       "      <th>20</th>\n",
       "      <td>Luminous Logistics</td>\n",
       "      <td>0x864ea0993bffffff:0xb50b5bb2fccf9d9b</td>\n",
       "      <td>None</td>\n",
       "      <td>32.893678</td>\n",
       "      <td>-96.688611</td>\n",
       "      <td>Delivery service</td>\n",
       "      <td>2.3</td>\n",
       "      <td>8</td>\n",
       "      <td>None</td>\n",
       "      <td>None</td>\n",
       "      <td>None</td>\n",
       "      <td>None</td>\n",
       "      <td>[0x864ea09938bb619f:0x1b6902de2a2f3f96, 0x864e...</td>\n",
       "      <td>https://www.google.com/maps/place//data=!4m2!3...</td>\n",
       "      <td>TX</td>\n",
       "    </tr>\n",
       "    <tr>\n",
       "      <th>31</th>\n",
       "      <td>Primo Pizza &amp; Subs</td>\n",
       "      <td>0x89c46d5e4554eae1:0xa2f8b211524ca29a</td>\n",
       "      <td>None</td>\n",
       "      <td>40.682177</td>\n",
       "      <td>-75.209820</td>\n",
       "      <td>Pizza delivery</td>\n",
       "      <td>4.5</td>\n",
       "      <td>25</td>\n",
       "      <td>$$</td>\n",
       "      <td>[[Thursday, 11AM–9PM], [Friday, 11AM–10PM], [S...</td>\n",
       "      <td>{'Service options': ['No-contact delivery', 'D...</td>\n",
       "      <td>Open ⋅ Closes 9PM</td>\n",
       "      <td>[0x89c46c56cac9c661:0xdc9d0dd3f2b203ae, 0x89c4...</td>\n",
       "      <td>https://www.google.com/maps/place//data=!4m2!3...</td>\n",
       "      <td>PA</td>\n",
       "    </tr>\n",
       "    <tr>\n",
       "      <th>40</th>\n",
       "      <td>The Boochyard @ Local Roots</td>\n",
       "      <td>0x80dc7588a897ed91:0x190ac94f6ebb8c76</td>\n",
       "      <td>None</td>\n",
       "      <td>33.136034</td>\n",
       "      <td>-117.224863</td>\n",
       "      <td>Brewery</td>\n",
       "      <td>4.9</td>\n",
       "      <td>38</td>\n",
       "      <td>None</td>\n",
       "      <td>[[Thursday, 3–8PM], [Friday, 3–9PM], [Saturday...</td>\n",
       "      <td>{'Service options': ['Delivery'], 'Accessibili...</td>\n",
       "      <td>Closed ⋅ Opens 3PM</td>\n",
       "      <td>[0x80dc76cb9d795c1f:0x9c650e782f4ee83b, 0x80dc...</td>\n",
       "      <td>https://www.google.com/maps/place//data=!4m2!3...</td>\n",
       "      <td>CA</td>\n",
       "    </tr>\n",
       "  </tbody>\n",
       "</table>\n",
       "</div>"
      ],
      "text/plain": [
       "                           name                                gmap_id  \\\n",
       "1                  San Soo Dang  0x80c2c778e3b73d33:0xbdc58662a4a97d49   \n",
       "5                  Vons Chicken  0x80dd2b4c8555edb7:0xfc33d65c4bdbef42   \n",
       "20           Luminous Logistics  0x864ea0993bffffff:0xb50b5bb2fccf9d9b   \n",
       "31           Primo Pizza & Subs  0x89c46d5e4554eae1:0xa2f8b211524ca29a   \n",
       "40  The Boochyard @ Local Roots  0x80dc7588a897ed91:0x190ac94f6ebb8c76   \n",
       "\n",
       "   description   latitude   longitude           category  avg_rating  \\\n",
       "1         None  34.058092 -118.292130  Korean restaurant         4.4   \n",
       "5         None  33.916402 -118.010855         Restaurant         4.5   \n",
       "20        None  32.893678  -96.688611   Delivery service         2.3   \n",
       "31        None  40.682177  -75.209820     Pizza delivery         4.5   \n",
       "40        None  33.136034 -117.224863            Brewery         4.9   \n",
       "\n",
       "    num_of_reviews price                                              hours  \\\n",
       "1               18  None  [[Thursday, 6:30AM–6PM], [Friday, 6:30AM–6PM],...   \n",
       "5               18  None  [[Thursday, 11AM–9:30PM], [Friday, 11AM–9:30PM...   \n",
       "20               8  None                                               None   \n",
       "31              25    $$  [[Thursday, 11AM–9PM], [Friday, 11AM–10PM], [S...   \n",
       "40              38  None  [[Thursday, 3–8PM], [Friday, 3–9PM], [Saturday...   \n",
       "\n",
       "                                                 MISC                 state  \\\n",
       "1   {'Service options': ['Takeout', 'Dine-in', 'De...     Open ⋅ Closes 6PM   \n",
       "5   {'Service options': ['Outdoor seating', 'Curbs...  Open ⋅ Closes 9:30PM   \n",
       "20                                               None                  None   \n",
       "31  {'Service options': ['No-contact delivery', 'D...     Open ⋅ Closes 9PM   \n",
       "40  {'Service options': ['Delivery'], 'Accessibili...    Closed ⋅ Opens 3PM   \n",
       "\n",
       "                                     relative_results  \\\n",
       "1   [0x80c2c78249aba68f:0x35bf16ce61be751d, 0x80c2...   \n",
       "5                                                None   \n",
       "20  [0x864ea09938bb619f:0x1b6902de2a2f3f96, 0x864e...   \n",
       "31  [0x89c46c56cac9c661:0xdc9d0dd3f2b203ae, 0x89c4...   \n",
       "40  [0x80dc76cb9d795c1f:0x9c650e782f4ee83b, 0x80dc...   \n",
       "\n",
       "                                                  url estado  \n",
       "1   https://www.google.com/maps/place//data=!4m2!3...     CA  \n",
       "5   https://www.google.com/maps/place//data=!4m2!3...     CA  \n",
       "20  https://www.google.com/maps/place//data=!4m2!3...     TX  \n",
       "31  https://www.google.com/maps/place//data=!4m2!3...     PA  \n",
       "40  https://www.google.com/maps/place//data=!4m2!3...     CA  "
      ]
     },
     "execution_count": 6,
     "metadata": {},
     "output_type": "execute_result"
    }
   ],
   "source": [
    "locales_gastronomicos.head()"
   ]
  },
  {
   "cell_type": "code",
   "execution_count": null,
   "metadata": {},
   "outputs": [],
   "source": []
  },
  {
   "cell_type": "markdown",
   "metadata": {},
   "source": [
    "## Vemos cantidad de reviews y promedio de calificacion por estado"
   ]
  },
  {
   "cell_type": "code",
   "execution_count": 7,
   "metadata": {},
   "outputs": [
    {
     "name": "stdout",
     "output_type": "stream",
     "text": [
      "estado\n",
      "CA    4.256317\n",
      "FL    4.246161\n",
      "HI    4.268203\n",
      "NY    4.233946\n",
      "PA    4.255325\n",
      "TX    4.228700\n",
      "UT    4.212590\n",
      "WA    4.268639\n",
      "Name: avg_rating, dtype: float64\n"
     ]
    }
   ],
   "source": [
    "avg_rating_por_estado = locales_gastronomicos.groupby('estado')['avg_rating'].mean()\n",
    "\n",
    "print(avg_rating_por_estado)"
   ]
  },
  {
   "cell_type": "code",
   "execution_count": 8,
   "metadata": {},
   "outputs": [
    {
     "name": "stdout",
     "output_type": "stream",
     "text": [
      "estado\n",
      "CA    3452329\n",
      "FL    2898039\n",
      "HI     136254\n",
      "NY    2000925\n",
      "PA    1097106\n",
      "TX    3368063\n",
      "UT     377348\n",
      "WA     765224\n",
      "Name: num_of_reviews, dtype: int64\n"
     ]
    }
   ],
   "source": [
    "# Calcular la suma de num_of_reviews por estado\n",
    "suma_reviews_por_estado = locales_gastronomicos.groupby('estado')['num_of_reviews'].sum()\n",
    "\n",
    "print(suma_reviews_por_estado)"
   ]
  },
  {
   "cell_type": "code",
   "execution_count": 9,
   "metadata": {},
   "outputs": [],
   "source": [
    "# Crear un gráfico de dispersión sobre un mapa con colores según avg_rating\n",
    "fig = px.scatter_geo(\n",
    "    locales_gastronomicos, \n",
    "    lat='latitude', \n",
    "    lon='longitude', \n",
    "    hover_name='name', \n",
    "    color='avg_rating',\n",
    "    color_continuous_scale='Viridis',  # Puedes cambiar la escala de color si lo deseas\n",
    "    scope='world', \n",
    "    title='Distribución Geográfica de Locales Gastronómicos (Color: Avg Rating)'\n",
    ")\n",
    "\n",
    "# Mostrar el gráfico en una ventana del navegador\n",
    "fig.show(renderer=\"browser\")"
   ]
  },
  {
   "cell_type": "code",
   "execution_count": null,
   "metadata": {},
   "outputs": [],
   "source": []
  }
 ],
 "metadata": {
  "kernelspec": {
   "display_name": "Python 3",
   "language": "python",
   "name": "python3"
  },
  "language_info": {
   "codemirror_mode": {
    "name": "ipython",
    "version": 3
   },
   "file_extension": ".py",
   "mimetype": "text/x-python",
   "name": "python",
   "nbconvert_exporter": "python",
   "pygments_lexer": "ipython3",
   "version": "3.11.1"
  }
 },
 "nbformat": 4,
 "nbformat_minor": 2
}
