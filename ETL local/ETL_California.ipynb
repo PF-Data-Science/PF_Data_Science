{
 "cells": [
  {
   "cell_type": "code",
   "execution_count": 1,
   "metadata": {},
   "outputs": [],
   "source": [
    "import pandas as pd\n",
    "import numpy as np\n",
    "import matplotlib.pyplot as plt\n",
    "import seaborn as sns \n",
    "import json\n",
    "from textblob import TextBlob"
   ]
  },
  {
   "cell_type": "markdown",
   "metadata": {},
   "source": [
    "## Abrimos"
   ]
  },
  {
   "cell_type": "code",
   "execution_count": 2,
   "metadata": {},
   "outputs": [],
   "source": [
    "rutas_archivos = [\n",
    "    'Google/reviews-estados/review-California/1.json',\n",
    "    'Google/reviews-estados/review-California/2.json',\n",
    "    'Google/reviews-estados/review-California/3.json',\n",
    "    'Google/reviews-estados/review-California/4.json',\n",
    "    'Google/reviews-estados/review-California/5.json',\n",
    "    'Google/reviews-estados/review-California/6.json',\n",
    "    'Google/reviews-estados/review-California/7.json',\n",
    "    'Google/reviews-estados/review-California/8.json',\n",
    "    'Google/reviews-estados/review-California/9.json',\n",
    "    'Google/reviews-estados/review-California/10.json',\n",
    "    'Google/reviews-estados/review-California/11.json',\n",
    "    'Google/reviews-estados/review-California/12.json',\n",
    "    'Google/reviews-estados/review-California/13.json',\n",
    "    'Google/reviews-estados/review-California/14.json',\n",
    "    'Google/reviews-estados/review-California/15.json',\n",
    "    'Google/reviews-estados/review-California/16.json',\n",
    "    'Google/reviews-estados/review-California/17.json',\n",
    "    'Google/reviews-estados/review-California/18.json',\n",
    "]"
   ]
  },
  {
   "cell_type": "code",
   "execution_count": 3,
   "metadata": {},
   "outputs": [],
   "source": [
    "todos_los_datos = []\n",
    "# Iterar a través de cada archivo en la lista de rutas\n",
    "for ruta_archivo in rutas_archivos:\n",
    "    # Leer cada línea del archivo JSON\n",
    "    with open(ruta_archivo, 'r') as f:\n",
    "        for linea in f:\n",
    "            # Cargar cada línea como un objeto JSON individual\n",
    "            datos_json = json.loads(linea)\n",
    "            # Agregar los datos al lista\n",
    "            todos_los_datos.append(datos_json)\n"
   ]
  },
  {
   "cell_type": "code",
   "execution_count": 4,
   "metadata": {},
   "outputs": [],
   "source": [
    "# Convertir a DataFrame de pandas\n",
    "df_California = pd.json_normalize(todos_los_datos)"
   ]
  },
  {
   "cell_type": "markdown",
   "metadata": {},
   "source": [
    "## Se eliminan las columnas innecesarias, nulos y duplicados"
   ]
  },
  {
   "cell_type": "code",
   "execution_count": 5,
   "metadata": {},
   "outputs": [],
   "source": [
    "# Eliminar las columnas 'time', 'resp' y 'pics'\n",
    "df_California = df_California.drop(['resp', 'pics', 'resp.time', 'resp.text'], axis=1)"
   ]
  },
  {
   "cell_type": "code",
   "execution_count": 6,
   "metadata": {},
   "outputs": [],
   "source": [
    "df_California = df_California.dropna(how='all')"
   ]
  },
  {
   "cell_type": "code",
   "execution_count": 7,
   "metadata": {},
   "outputs": [],
   "source": [
    "df_California = df_California.drop_duplicates()\n"
   ]
  },
  {
   "cell_type": "markdown",
   "metadata": {},
   "source": [
    "## Se convierte la columna time en una fecha legible para poder analizar la evolucion de las variables a travez del tiempo y se elimina la columna sin transformar"
   ]
  },
  {
   "cell_type": "code",
   "execution_count": 8,
   "metadata": {},
   "outputs": [],
   "source": [
    "# Convertir la columna 'time' a formato de fecha y hora\n",
    "df_California['time'] = pd.to_datetime(df_California['time'], unit='ms')\n",
    "\n",
    "# Crear una nueva columna con la fecha y hora formateada hasta los minutos\n",
    "df_California['fecha_y_hora'] = df_California['time'].dt.strftime('%d/%m/%Y %H:%M')"
   ]
  },
  {
   "cell_type": "code",
   "execution_count": 9,
   "metadata": {},
   "outputs": [],
   "source": [
    "df_California = df_California.drop(['time'], axis=1)"
   ]
  },
  {
   "cell_type": "markdown",
   "metadata": {},
   "source": [
    "## Se realiza el analisis de sentimiento a las reviews"
   ]
  },
  {
   "cell_type": "code",
   "execution_count": 10,
   "metadata": {},
   "outputs": [],
   "source": [
    "def analizar_sentimiento(review):\n",
    "    if review is None:\n",
    "        return 'No message'\n",
    "    else:\n",
    "        sentiment = TextBlob(str(review)).sentiment.polarity\n",
    "        if sentiment > 0:\n",
    "            return 'Positive'\n",
    "        elif sentiment < 0:\n",
    "            return 'Negative'\n",
    "        else:\n",
    "            return 'Neutral'"
   ]
  },
  {
   "cell_type": "code",
   "execution_count": 11,
   "metadata": {},
   "outputs": [],
   "source": [
    "df_California['analisis_sentimiento'] = df_California['text'].apply(analizar_sentimiento)"
   ]
  },
  {
   "cell_type": "code",
   "execution_count": 12,
   "metadata": {},
   "outputs": [
    {
     "data": {
      "text/html": [
       "<div>\n",
       "<style scoped>\n",
       "    .dataframe tbody tr th:only-of-type {\n",
       "        vertical-align: middle;\n",
       "    }\n",
       "\n",
       "    .dataframe tbody tr th {\n",
       "        vertical-align: top;\n",
       "    }\n",
       "\n",
       "    .dataframe thead th {\n",
       "        text-align: right;\n",
       "    }\n",
       "</style>\n",
       "<table border=\"1\" class=\"dataframe\">\n",
       "  <thead>\n",
       "    <tr style=\"text-align: right;\">\n",
       "      <th></th>\n",
       "      <th>user_id</th>\n",
       "      <th>name</th>\n",
       "      <th>rating</th>\n",
       "      <th>text</th>\n",
       "      <th>gmap_id</th>\n",
       "      <th>fecha_y_hora</th>\n",
       "      <th>analisis_sentimiento</th>\n",
       "    </tr>\n",
       "  </thead>\n",
       "  <tbody>\n",
       "    <tr>\n",
       "      <th>0</th>\n",
       "      <td>108991152262655788985</td>\n",
       "      <td>Song Ro</td>\n",
       "      <td>5</td>\n",
       "      <td>Love there korean rice cake.</td>\n",
       "      <td>0x80c2c778e3b73d33:0xbdc58662a4a97d49</td>\n",
       "      <td>06/01/2021 05:12</td>\n",
       "      <td>Positive</td>\n",
       "    </tr>\n",
       "    <tr>\n",
       "      <th>1</th>\n",
       "      <td>111290322219796215751</td>\n",
       "      <td>Rafa Robles</td>\n",
       "      <td>5</td>\n",
       "      <td>Good very good</td>\n",
       "      <td>0x80c2c778e3b73d33:0xbdc58662a4a97d49</td>\n",
       "      <td>09/02/2021 05:47</td>\n",
       "      <td>Positive</td>\n",
       "    </tr>\n",
       "    <tr>\n",
       "      <th>2</th>\n",
       "      <td>112640357449611959087</td>\n",
       "      <td>David Han</td>\n",
       "      <td>4</td>\n",
       "      <td>They make Korean traditional food very properly.</td>\n",
       "      <td>0x80c2c778e3b73d33:0xbdc58662a4a97d49</td>\n",
       "      <td>08/03/2020 05:04</td>\n",
       "      <td>Neutral</td>\n",
       "    </tr>\n",
       "    <tr>\n",
       "      <th>3</th>\n",
       "      <td>117440349723823658676</td>\n",
       "      <td>Anthony Kim</td>\n",
       "      <td>5</td>\n",
       "      <td>Short ribs are very delicious.</td>\n",
       "      <td>0x80c2c778e3b73d33:0xbdc58662a4a97d49</td>\n",
       "      <td>07/03/2019 05:56</td>\n",
       "      <td>Positive</td>\n",
       "    </tr>\n",
       "    <tr>\n",
       "      <th>4</th>\n",
       "      <td>100580770836123539210</td>\n",
       "      <td>Mario Marzouk</td>\n",
       "      <td>5</td>\n",
       "      <td>Great food and prices the portions are large</td>\n",
       "      <td>0x80c2c778e3b73d33:0xbdc58662a4a97d49</td>\n",
       "      <td>16/05/2017 05:01</td>\n",
       "      <td>Positive</td>\n",
       "    </tr>\n",
       "  </tbody>\n",
       "</table>\n",
       "</div>"
      ],
      "text/plain": [
       "                 user_id           name  rating  \\\n",
       "0  108991152262655788985        Song Ro       5   \n",
       "1  111290322219796215751    Rafa Robles       5   \n",
       "2  112640357449611959087      David Han       4   \n",
       "3  117440349723823658676    Anthony Kim       5   \n",
       "4  100580770836123539210  Mario Marzouk       5   \n",
       "\n",
       "                                               text  \\\n",
       "0                      Love there korean rice cake.   \n",
       "1                                    Good very good   \n",
       "2  They make Korean traditional food very properly.   \n",
       "3                    Short ribs are very delicious.   \n",
       "4      Great food and prices the portions are large   \n",
       "\n",
       "                                 gmap_id      fecha_y_hora  \\\n",
       "0  0x80c2c778e3b73d33:0xbdc58662a4a97d49  06/01/2021 05:12   \n",
       "1  0x80c2c778e3b73d33:0xbdc58662a4a97d49  09/02/2021 05:47   \n",
       "2  0x80c2c778e3b73d33:0xbdc58662a4a97d49  08/03/2020 05:04   \n",
       "3  0x80c2c778e3b73d33:0xbdc58662a4a97d49  07/03/2019 05:56   \n",
       "4  0x80c2c778e3b73d33:0xbdc58662a4a97d49  16/05/2017 05:01   \n",
       "\n",
       "  analisis_sentimiento  \n",
       "0             Positive  \n",
       "1             Positive  \n",
       "2              Neutral  \n",
       "3             Positive  \n",
       "4             Positive  "
      ]
     },
     "execution_count": 12,
     "metadata": {},
     "output_type": "execute_result"
    }
   ],
   "source": [
    "df_California.head()"
   ]
  },
  {
   "cell_type": "code",
   "execution_count": 15,
   "metadata": {},
   "outputs": [
    {
     "data": {
      "text/plain": [
       "analisis_sentimiento\n",
       "Positive      1178181\n",
       "No message    1148384\n",
       "Negative       124477\n",
       "Neutral        119748\n",
       "Name: count, dtype: int64"
      ]
     },
     "execution_count": 15,
     "metadata": {},
     "output_type": "execute_result"
    }
   ],
   "source": [
    "conteo_subcat = df_California['analisis_sentimiento'].value_counts()\n",
    "conteo_subcat"
   ]
  },
  {
   "cell_type": "markdown",
   "metadata": {},
   "source": [
    "## Se eliminan datos anteriores a 2016 y se reinicia el indice"
   ]
  },
  {
   "cell_type": "code",
   "execution_count": 13,
   "metadata": {},
   "outputs": [],
   "source": [
    "# Convierte la columna 'fecha_y_hora' a tipo datetime especificando el formato\n",
    "df_California['fecha_y_hora'] = pd.to_datetime(df_California['fecha_y_hora'], format='%d/%m/%Y %H:%M')\n",
    "\n",
    "# Filtra las filas donde la fecha y hora sea posterior o igual al año 2016\n",
    "df_California = df_California[df_California['fecha_y_hora'].dt.year >= 2016]"
   ]
  },
  {
   "cell_type": "code",
   "execution_count": 14,
   "metadata": {},
   "outputs": [],
   "source": [
    "df_California = df_California.reset_index(drop=True)\n"
   ]
  },
  {
   "cell_type": "code",
   "execution_count": null,
   "metadata": {},
   "outputs": [],
   "source": []
  }
 ],
 "metadata": {
  "kernelspec": {
   "display_name": "Python 3",
   "language": "python",
   "name": "python3"
  },
  "language_info": {
   "codemirror_mode": {
    "name": "ipython",
    "version": 3
   },
   "file_extension": ".py",
   "mimetype": "text/x-python",
   "name": "python",
   "nbconvert_exporter": "python",
   "pygments_lexer": "ipython3",
   "version": "3.11.1"
  }
 },
 "nbformat": 4,
 "nbformat_minor": 2
}
