{
 "cells": [
  {
   "cell_type": "markdown",
   "metadata": {},
   "source": [
    "# *PROCESO DE EXTRACCIÓN - TRANSFORMACIÓN - LIMPIEZA DE LOS DATOS DE GOOGLE MAPS Y YELP*"
   ]
  },
  {
   "cell_type": "markdown",
   "metadata": {},
   "source": [
    "# IMPORTACIÓN DE LAS LIBRERIAS PARA EL PROCESO..."
   ]
  },
  {
   "cell_type": "code",
   "execution_count": 1,
   "metadata": {},
   "outputs": [],
   "source": [
    "import os\n",
    "import requests\n",
    "import ast\n",
    "import pandas as pd\n",
    "import numpy as np\n",
    "import json\n",
    "from textblob import TextBlob"
   ]
  },
  {
   "cell_type": "markdown",
   "metadata": {},
   "source": [
    "# CREACIÓN DE LOS DATAFRAMES CORRESPONDIENTES A CADA ARCHIVO..."
   ]
  },
  {
   "cell_type": "code",
   "execution_count": 2,
   "metadata": {},
   "outputs": [],
   "source": [
    "# Rutas a los archivos JSON\n",
    "ruta_archivos_googlemaps = ['datasets/google_maps/datos_locales/1.json',\n",
    "                            'datasets/google_maps/datos_locales/2.json',\n",
    "                            'datasets/google_maps/datos_locales/3.json']\n",
    "\n",
    "# Crear listas para almacenar los datos de cada archivo\n",
    "googlemaps_01 = []\n",
    "\n",
    "# Procesar cada archivo por separado\n",
    "for datos_googlemaps in ruta_archivos_googlemaps:\n",
    "    if '1' in datos_googlemaps:\n",
    "        data_list = googlemaps_01\n",
    "    elif '2' in datos_googlemaps:\n",
    "        data_list = googlemaps_01\n",
    "    elif '3' in datos_googlemaps:\n",
    "        data_list = googlemaps_01\n",
    "\n",
    "    with open(datos_googlemaps, encoding='utf-8') as f:\n",
    "        for line in f:\n",
    "            try:\n",
    "                data = json.loads(line)\n",
    "            except json.JSONDecodeError:\n",
    "                data = ast.literal_eval(line)\n",
    "            data_list.append(data)\n",
    "\n",
    "# Crear DataFrames para cada conjunto de datos\n",
    "datos_locales_googlemaps_01 = pd.DataFrame(googlemaps_01)"
   ]
  },
  {
   "cell_type": "code",
   "execution_count": 3,
   "metadata": {},
   "outputs": [],
   "source": [
    "# Rutas a los archivos JSON\n",
    "ruta_archivos_googlemaps = ['datasets/google_maps/datos_locales/4.json',\n",
    "                            'datasets/google_maps/datos_locales/5.json',\n",
    "                            'datasets/google_maps/datos_locales/6.json']\n",
    "\n",
    "# Crear listas para almacenar los datos de cada archivo\n",
    "googlemaps_02 = []\n",
    "\n",
    "# Procesar cada archivo por separado\n",
    "for datos_googlemaps in ruta_archivos_googlemaps:\n",
    "    if '4' in datos_googlemaps:\n",
    "        data_list = googlemaps_02\n",
    "    elif '5' in datos_googlemaps:\n",
    "        data_list = googlemaps_02\n",
    "    elif '6' in datos_googlemaps:\n",
    "        data_list = googlemaps_02\n",
    "\n",
    "    with open(datos_googlemaps, encoding='utf-8') as f:\n",
    "        for line in f:\n",
    "            try:\n",
    "                data = json.loads(line)\n",
    "            except json.JSONDecodeError:\n",
    "                data = ast.literal_eval(line)\n",
    "            data_list.append(data)\n",
    "\n",
    "# Crear DataFrames para cada conjunto de datos\n",
    "datos_locales_googlemaps_02 = pd.DataFrame(googlemaps_02)"
   ]
  },
  {
   "cell_type": "code",
   "execution_count": 4,
   "metadata": {},
   "outputs": [],
   "source": [
    "# Rutas a los archivos JSON\n",
    "ruta_archivos_googlemaps = ['datasets/google_maps/datos_locales/7.json',\n",
    "                            'datasets/google_maps/datos_locales/8.json',\n",
    "                            'datasets/google_maps/datos_locales/9.json']\n",
    "\n",
    "# Crear listas para almacenar los datos de cada archivo\n",
    "googlemaps_03 = []\n",
    "\n",
    "# Procesar cada archivo por separado\n",
    "for datos_googlemaps in ruta_archivos_googlemaps:\n",
    "    if '7' in datos_googlemaps:\n",
    "        data_list = googlemaps_03\n",
    "    elif '8' in datos_googlemaps:\n",
    "        data_list = googlemaps_03\n",
    "    elif '9' in datos_googlemaps:\n",
    "        data_list = googlemaps_03\n",
    "\n",
    "    with open(datos_googlemaps, encoding='utf-8') as f:\n",
    "        for line in f:\n",
    "            try:\n",
    "                data = json.loads(line)\n",
    "            except json.JSONDecodeError:\n",
    "                data = ast.literal_eval(line)\n",
    "            data_list.append(data)\n",
    "\n",
    "# Crear DataFrames para cada conjunto de datos\n",
    "datos_locales_googlemaps_03 = pd.DataFrame(googlemaps_03)"
   ]
  },
  {
   "cell_type": "code",
   "execution_count": 5,
   "metadata": {},
   "outputs": [],
   "source": [
    "# Rutas a los archivos JSON\n",
    "ruta_archivos_googlemaps = ['datasets/google_maps/datos_locales/10.json',\n",
    "                            'datasets/google_maps/datos_locales/11.json']\n",
    "\n",
    "# Crear listas para almacenar los datos de cada archivo\n",
    "googlemaps_04 = []\n",
    "\n",
    "# Procesar cada archivo por separado\n",
    "for datos_googlemaps in ruta_archivos_googlemaps:\n",
    "    if '10' in datos_googlemaps:\n",
    "        data_list = googlemaps_04\n",
    "    elif '11' in datos_googlemaps:\n",
    "        data_list = googlemaps_04\n",
    "\n",
    "    with open(datos_googlemaps, encoding='utf-8') as f:\n",
    "        for line in f:\n",
    "            try:\n",
    "                data = json.loads(line)\n",
    "            except json.JSONDecodeError:\n",
    "                data = ast.literal_eval(line)\n",
    "            data_list.append(data)\n",
    "\n",
    "# Crear DataFrames para cada conjunto de datos\n",
    "datos_locales_googlemaps_04 = pd.DataFrame(googlemaps_04)"
   ]
  },
  {
   "cell_type": "markdown",
   "metadata": {},
   "source": [
    "# PROCESO DE ANÁLISIS EXPLORATORIO DE DATOS..."
   ]
  },
  {
   "cell_type": "markdown",
   "metadata": {},
   "source": [
    "# *datos_locales_googlemaps_01*"
   ]
  },
  {
   "cell_type": "code",
   "execution_count": 6,
   "metadata": {},
   "outputs": [
    {
     "name": "stdout",
     "output_type": "stream",
     "text": [
      "<class 'pandas.core.frame.DataFrame'>\n",
      "RangeIndex: 825003 entries, 0 to 825002\n",
      "Data columns (total 15 columns):\n",
      " #   Column            Non-Null Count   Dtype  \n",
      "---  ------            --------------   -----  \n",
      " 0   name              824983 non-null  object \n",
      " 1   address           795909 non-null  object \n",
      " 2   gmap_id           825003 non-null  object \n",
      " 3   description       42578 non-null   object \n",
      " 4   latitude          825003 non-null  float64\n",
      " 5   longitude         825003 non-null  float64\n",
      " 6   category          818612 non-null  object \n",
      " 7   avg_rating        825003 non-null  float64\n",
      " 8   num_of_reviews    825003 non-null  int64  \n",
      " 9   price             43316 non-null   object \n",
      " 10  hours             578530 non-null  object \n",
      " 11  MISC              593715 non-null  object \n",
      " 12  state             589122 non-null  object \n",
      " 13  relative_results  722230 non-null  object \n",
      " 14  url               825003 non-null  object \n",
      "dtypes: float64(3), int64(1), object(11)\n",
      "memory usage: 94.4+ MB\n"
     ]
    }
   ],
   "source": [
    "datos_locales_googlemaps_01.info()"
   ]
  },
  {
   "cell_type": "code",
   "execution_count": 7,
   "metadata": {},
   "outputs": [
    {
     "data": {
      "text/plain": [
       "name                 object\n",
       "address              object\n",
       "gmap_id              object\n",
       "description          object\n",
       "latitude            float64\n",
       "longitude           float64\n",
       "category             object\n",
       "avg_rating          float64\n",
       "num_of_reviews        int64\n",
       "price                object\n",
       "hours                object\n",
       "MISC                 object\n",
       "state                object\n",
       "relative_results     object\n",
       "url                  object\n",
       "dtype: object"
      ]
     },
     "execution_count": 7,
     "metadata": {},
     "output_type": "execute_result"
    }
   ],
   "source": [
    "datos_locales_googlemaps_01.dtypes"
   ]
  },
  {
   "cell_type": "code",
   "execution_count": 8,
   "metadata": {},
   "outputs": [
    {
     "data": {
      "text/plain": [
       "(825003, 15)"
      ]
     },
     "execution_count": 8,
     "metadata": {},
     "output_type": "execute_result"
    }
   ],
   "source": [
    "datos_locales_googlemaps_01.shape"
   ]
  },
  {
   "cell_type": "code",
   "execution_count": 9,
   "metadata": {},
   "outputs": [
    {
     "data": {
      "text/plain": [
       "Index(['name', 'address', 'gmap_id', 'description', 'latitude', 'longitude',\n",
       "       'category', 'avg_rating', 'num_of_reviews', 'price', 'hours', 'MISC',\n",
       "       'state', 'relative_results', 'url'],\n",
       "      dtype='object')"
      ]
     },
     "execution_count": 9,
     "metadata": {},
     "output_type": "execute_result"
    }
   ],
   "source": [
    "datos_locales_googlemaps_01.columns"
   ]
  },
  {
   "cell_type": "code",
   "execution_count": 10,
   "metadata": {},
   "outputs": [
    {
     "data": {
      "text/plain": [
       "name                    20\n",
       "address              29094\n",
       "gmap_id                  0\n",
       "description         782425\n",
       "latitude                 0\n",
       "longitude                0\n",
       "category              6391\n",
       "avg_rating               0\n",
       "num_of_reviews           0\n",
       "price               781687\n",
       "hours               246473\n",
       "MISC                231288\n",
       "state               235881\n",
       "relative_results    102773\n",
       "url                      0\n",
       "dtype: int64"
      ]
     },
     "execution_count": 10,
     "metadata": {},
     "output_type": "execute_result"
    }
   ],
   "source": [
    "datos_locales_googlemaps_01.isnull().sum()"
   ]
  },
  {
   "cell_type": "code",
   "execution_count": 11,
   "metadata": {},
   "outputs": [
    {
     "data": {
      "text/plain": [
       "26575"
      ]
     },
     "execution_count": 11,
     "metadata": {},
     "output_type": "execute_result"
    }
   ],
   "source": [
    "datos_locales_googlemaps_01.astype(str).duplicated().sum()"
   ]
  },
  {
   "cell_type": "markdown",
   "metadata": {},
   "source": [
    "# *datos_locales_googlemaps_02*"
   ]
  },
  {
   "cell_type": "code",
   "execution_count": 12,
   "metadata": {},
   "outputs": [
    {
     "name": "stdout",
     "output_type": "stream",
     "text": [
      "<class 'pandas.core.frame.DataFrame'>\n",
      "RangeIndex: 825003 entries, 0 to 825002\n",
      "Data columns (total 15 columns):\n",
      " #   Column            Non-Null Count   Dtype  \n",
      "---  ------            --------------   -----  \n",
      " 0   name              824999 non-null  object \n",
      " 1   address           801402 non-null  object \n",
      " 2   gmap_id           825003 non-null  object \n",
      " 3   description       54155 non-null   object \n",
      " 4   latitude          825003 non-null  float64\n",
      " 5   longitude         825003 non-null  float64\n",
      " 6   category          819935 non-null  object \n",
      " 7   avg_rating        825003 non-null  float64\n",
      " 8   num_of_reviews    825003 non-null  int64  \n",
      " 9   price             57291 non-null   object \n",
      " 10  hours             598431 non-null  object \n",
      " 11  MISC              623405 non-null  object \n",
      " 12  state             610534 non-null  object \n",
      " 13  relative_results  740408 non-null  object \n",
      " 14  url               825003 non-null  object \n",
      "dtypes: float64(3), int64(1), object(11)\n",
      "memory usage: 94.4+ MB\n"
     ]
    }
   ],
   "source": [
    "datos_locales_googlemaps_02.info()"
   ]
  },
  {
   "cell_type": "code",
   "execution_count": 13,
   "metadata": {},
   "outputs": [
    {
     "data": {
      "text/plain": [
       "name                 object\n",
       "address              object\n",
       "gmap_id              object\n",
       "description          object\n",
       "latitude            float64\n",
       "longitude           float64\n",
       "category             object\n",
       "avg_rating          float64\n",
       "num_of_reviews        int64\n",
       "price                object\n",
       "hours                object\n",
       "MISC                 object\n",
       "state                object\n",
       "relative_results     object\n",
       "url                  object\n",
       "dtype: object"
      ]
     },
     "execution_count": 13,
     "metadata": {},
     "output_type": "execute_result"
    }
   ],
   "source": [
    "datos_locales_googlemaps_02.dtypes"
   ]
  },
  {
   "cell_type": "code",
   "execution_count": 14,
   "metadata": {},
   "outputs": [
    {
     "data": {
      "text/plain": [
       "(825003, 15)"
      ]
     },
     "execution_count": 14,
     "metadata": {},
     "output_type": "execute_result"
    }
   ],
   "source": [
    "datos_locales_googlemaps_02.shape"
   ]
  },
  {
   "cell_type": "code",
   "execution_count": 15,
   "metadata": {},
   "outputs": [
    {
     "data": {
      "text/plain": [
       "Index(['name', 'address', 'gmap_id', 'description', 'latitude', 'longitude',\n",
       "       'category', 'avg_rating', 'num_of_reviews', 'price', 'hours', 'MISC',\n",
       "       'state', 'relative_results', 'url'],\n",
       "      dtype='object')"
      ]
     },
     "execution_count": 15,
     "metadata": {},
     "output_type": "execute_result"
    }
   ],
   "source": [
    "datos_locales_googlemaps_02.columns"
   ]
  },
  {
   "cell_type": "code",
   "execution_count": 16,
   "metadata": {},
   "outputs": [
    {
     "data": {
      "text/plain": [
       "name                     4\n",
       "address              23601\n",
       "gmap_id                  0\n",
       "description         770848\n",
       "latitude                 0\n",
       "longitude                0\n",
       "category              5068\n",
       "avg_rating               0\n",
       "num_of_reviews           0\n",
       "price               767712\n",
       "hours               226572\n",
       "MISC                201598\n",
       "state               214469\n",
       "relative_results     84595\n",
       "url                      0\n",
       "dtype: int64"
      ]
     },
     "execution_count": 16,
     "metadata": {},
     "output_type": "execute_result"
    }
   ],
   "source": [
    "datos_locales_googlemaps_02.isnull().sum()"
   ]
  },
  {
   "cell_type": "code",
   "execution_count": 17,
   "metadata": {},
   "outputs": [
    {
     "data": {
      "text/plain": [
       "2"
      ]
     },
     "execution_count": 17,
     "metadata": {},
     "output_type": "execute_result"
    }
   ],
   "source": [
    "datos_locales_googlemaps_02.astype(str).duplicated().sum()"
   ]
  },
  {
   "cell_type": "markdown",
   "metadata": {},
   "source": [
    "# *datos_locales_googlemaps_03*"
   ]
  },
  {
   "cell_type": "code",
   "execution_count": 18,
   "metadata": {},
   "outputs": [
    {
     "name": "stdout",
     "output_type": "stream",
     "text": [
      "<class 'pandas.core.frame.DataFrame'>\n",
      "RangeIndex: 825003 entries, 0 to 825002\n",
      "Data columns (total 15 columns):\n",
      " #   Column            Non-Null Count   Dtype  \n",
      "---  ------            --------------   -----  \n",
      " 0   name              824993 non-null  object \n",
      " 1   address           807147 non-null  object \n",
      " 2   gmap_id           825003 non-null  object \n",
      " 3   description       88136 non-null   object \n",
      " 4   latitude          825003 non-null  float64\n",
      " 5   longitude         825003 non-null  float64\n",
      " 6   category          821144 non-null  object \n",
      " 7   avg_rating        825003 non-null  float64\n",
      " 8   num_of_reviews    825003 non-null  int64  \n",
      " 9   price             95743 non-null   object \n",
      " 10  hours             627982 non-null  object \n",
      " 11  MISC              660411 non-null  object \n",
      " 12  state             638045 non-null  object \n",
      " 13  relative_results  755177 non-null  object \n",
      " 14  url               825003 non-null  object \n",
      "dtypes: float64(3), int64(1), object(11)\n",
      "memory usage: 94.4+ MB\n"
     ]
    }
   ],
   "source": [
    "datos_locales_googlemaps_03.info()"
   ]
  },
  {
   "cell_type": "code",
   "execution_count": 19,
   "metadata": {},
   "outputs": [
    {
     "data": {
      "text/plain": [
       "name                 object\n",
       "address              object\n",
       "gmap_id              object\n",
       "description          object\n",
       "latitude            float64\n",
       "longitude           float64\n",
       "category             object\n",
       "avg_rating          float64\n",
       "num_of_reviews        int64\n",
       "price                object\n",
       "hours                object\n",
       "MISC                 object\n",
       "state                object\n",
       "relative_results     object\n",
       "url                  object\n",
       "dtype: object"
      ]
     },
     "execution_count": 19,
     "metadata": {},
     "output_type": "execute_result"
    }
   ],
   "source": [
    "datos_locales_googlemaps_03.dtypes"
   ]
  },
  {
   "cell_type": "code",
   "execution_count": 20,
   "metadata": {},
   "outputs": [
    {
     "data": {
      "text/plain": [
       "(825003, 15)"
      ]
     },
     "execution_count": 20,
     "metadata": {},
     "output_type": "execute_result"
    }
   ],
   "source": [
    "datos_locales_googlemaps_03.shape"
   ]
  },
  {
   "cell_type": "code",
   "execution_count": 21,
   "metadata": {},
   "outputs": [
    {
     "data": {
      "text/plain": [
       "Index(['name', 'address', 'gmap_id', 'description', 'latitude', 'longitude',\n",
       "       'category', 'avg_rating', 'num_of_reviews', 'price', 'hours', 'MISC',\n",
       "       'state', 'relative_results', 'url'],\n",
       "      dtype='object')"
      ]
     },
     "execution_count": 21,
     "metadata": {},
     "output_type": "execute_result"
    }
   ],
   "source": [
    "datos_locales_googlemaps_03.columns"
   ]
  },
  {
   "cell_type": "code",
   "execution_count": 22,
   "metadata": {},
   "outputs": [
    {
     "data": {
      "text/plain": [
       "name                    10\n",
       "address              17856\n",
       "gmap_id                  0\n",
       "description         736867\n",
       "latitude                 0\n",
       "longitude                0\n",
       "category              3859\n",
       "avg_rating               0\n",
       "num_of_reviews           0\n",
       "price               729260\n",
       "hours               197021\n",
       "MISC                164592\n",
       "state               186958\n",
       "relative_results     69826\n",
       "url                      0\n",
       "dtype: int64"
      ]
     },
     "execution_count": 22,
     "metadata": {},
     "output_type": "execute_result"
    }
   ],
   "source": [
    "datos_locales_googlemaps_03.isnull().sum()"
   ]
  },
  {
   "cell_type": "code",
   "execution_count": 23,
   "metadata": {},
   "outputs": [
    {
     "data": {
      "text/plain": [
       "2"
      ]
     },
     "execution_count": 23,
     "metadata": {},
     "output_type": "execute_result"
    }
   ],
   "source": [
    "datos_locales_googlemaps_03.astype(str).duplicated().sum()"
   ]
  },
  {
   "cell_type": "markdown",
   "metadata": {},
   "source": [
    "# *datos_locales_googlemaps_04*"
   ]
  },
  {
   "cell_type": "code",
   "execution_count": 24,
   "metadata": {},
   "outputs": [
    {
     "name": "stdout",
     "output_type": "stream",
     "text": [
      "<class 'pandas.core.frame.DataFrame'>\n",
      "RangeIndex: 550002 entries, 0 to 550001\n",
      "Data columns (total 15 columns):\n",
      " #   Column            Non-Null Count   Dtype  \n",
      "---  ------            --------------   -----  \n",
      " 0   name              549999 non-null  object \n",
      " 1   address           540042 non-null  object \n",
      " 2   gmap_id           550002 non-null  object \n",
      " 3   description       69420 non-null   object \n",
      " 4   latitude          550002 non-null  float64\n",
      " 5   longitude         550002 non-null  float64\n",
      " 6   category          547901 non-null  object \n",
      " 7   avg_rating        550002 non-null  float64\n",
      " 8   num_of_reviews    550002 non-null  int64  \n",
      " 9   price             78853 non-null   object \n",
      " 10  hours             432663 non-null  object \n",
      " 11  MISC              456646 non-null  object \n",
      " 12  state             440855 non-null  object \n",
      " 13  relative_results  512138 non-null  object \n",
      " 14  url               550002 non-null  object \n",
      "dtypes: float64(3), int64(1), object(11)\n",
      "memory usage: 62.9+ MB\n"
     ]
    }
   ],
   "source": [
    "datos_locales_googlemaps_04.info()"
   ]
  },
  {
   "cell_type": "code",
   "execution_count": 25,
   "metadata": {},
   "outputs": [
    {
     "data": {
      "text/plain": [
       "name                 object\n",
       "address              object\n",
       "gmap_id              object\n",
       "description          object\n",
       "latitude            float64\n",
       "longitude           float64\n",
       "category             object\n",
       "avg_rating          float64\n",
       "num_of_reviews        int64\n",
       "price                object\n",
       "hours                object\n",
       "MISC                 object\n",
       "state                object\n",
       "relative_results     object\n",
       "url                  object\n",
       "dtype: object"
      ]
     },
     "execution_count": 25,
     "metadata": {},
     "output_type": "execute_result"
    }
   ],
   "source": [
    "datos_locales_googlemaps_04.dtypes"
   ]
  },
  {
   "cell_type": "code",
   "execution_count": 26,
   "metadata": {},
   "outputs": [
    {
     "data": {
      "text/plain": [
       "(550002, 15)"
      ]
     },
     "execution_count": 26,
     "metadata": {},
     "output_type": "execute_result"
    }
   ],
   "source": [
    "datos_locales_googlemaps_04.shape"
   ]
  },
  {
   "cell_type": "code",
   "execution_count": 27,
   "metadata": {},
   "outputs": [
    {
     "data": {
      "text/plain": [
       "Index(['name', 'address', 'gmap_id', 'description', 'latitude', 'longitude',\n",
       "       'category', 'avg_rating', 'num_of_reviews', 'price', 'hours', 'MISC',\n",
       "       'state', 'relative_results', 'url'],\n",
       "      dtype='object')"
      ]
     },
     "execution_count": 27,
     "metadata": {},
     "output_type": "execute_result"
    }
   ],
   "source": [
    "datos_locales_googlemaps_04.columns"
   ]
  },
  {
   "cell_type": "code",
   "execution_count": 28,
   "metadata": {},
   "outputs": [
    {
     "data": {
      "text/plain": [
       "name                     3\n",
       "address               9960\n",
       "gmap_id                  0\n",
       "description         480582\n",
       "latitude                 0\n",
       "longitude                0\n",
       "category              2101\n",
       "avg_rating               0\n",
       "num_of_reviews           0\n",
       "price               471149\n",
       "hours               117339\n",
       "MISC                 93356\n",
       "state               109147\n",
       "relative_results     37864\n",
       "url                      0\n",
       "dtype: int64"
      ]
     },
     "execution_count": 28,
     "metadata": {},
     "output_type": "execute_result"
    }
   ],
   "source": [
    "datos_locales_googlemaps_04.isnull().sum()"
   ]
  },
  {
   "cell_type": "code",
   "execution_count": 29,
   "metadata": {},
   "outputs": [
    {
     "data": {
      "text/plain": [
       "1"
      ]
     },
     "execution_count": 29,
     "metadata": {},
     "output_type": "execute_result"
    }
   ],
   "source": [
    "datos_locales_googlemaps_04.astype(str).duplicated().sum()"
   ]
  },
  {
   "cell_type": "markdown",
   "metadata": {},
   "source": [
    "Este dataset metadata de Google contiene información sobre sitios de interés como farmacias, restaurantes, etc. Contiene 15 columnas. A continuación proporcionamos una descripción detallada de cada columna:\n",
    "\n",
    "-**name**: El nombre del sitio.  \n",
    "-**address**: La dirección del sitio.  \n",
    "-**gmap_id**: El identificador único del sitio en Google Maps.  \n",
    "-**description**: Una descripción del sitio.  \n",
    "-**latitude**: La latitud del sitio.  \n",
    "-**longitude**: La longitud del sitio.  \n",
    "-**category**: La categoría del sitio.  \n",
    "-**avg_rating**: La calificación promedio del sitio.  \n",
    "-**num_of_reviews**: El número de reseñas del sitio.  \n",
    "-**price**: El precio del sitio.  \n",
    "-**hours**: El horario de atención del sitio.  \n",
    "-**MISC**: Información adicional sobre el sitio.  \n",
    "-**state**: El estado del sitio.  \n",
    "-**relative_results**: Los resultados relativos del sitio.  \n",
    "-**url**: El enlace a la página de Google Maps del sitio."
   ]
  },
  {
   "cell_type": "markdown",
   "metadata": {},
   "source": [
    "# PROCESO DE LIMPIEZA DE DATOS..."
   ]
  },
  {
   "cell_type": "code",
   "execution_count": 30,
   "metadata": {},
   "outputs": [
    {
     "name": "stdout",
     "output_type": "stream",
     "text": [
      "Columnas con listas en datos_locales_googlemaps_01:\n",
      "['category', 'hours', 'relative_results']\n",
      "Columnas con listas en datos_locales_googlemaps_02:\n",
      "['category', 'hours', 'relative_results']\n",
      "Columnas con listas en datos_locales_googlemaps_03:\n",
      "['category', 'hours', 'relative_results']\n",
      "Columnas con listas en datos_locales_googlemaps_04:\n",
      "['category', 'hours', 'relative_results']\n"
     ]
    }
   ],
   "source": [
    "# Función para identificar columnas con LISTAS\n",
    "def listas(df):\n",
    "    columnas_listas = []\n",
    "    for columna in df.columns:\n",
    "        if any(isinstance(valor, list) for valor in df[columna]):\n",
    "            columnas_listas.append(columna)\n",
    "    return columnas_listas\n",
    "\n",
    "# Iterar sobre los DataFrames y encontrar columnas con listas\n",
    "for nombre_df in ['datos_locales_googlemaps_01', 'datos_locales_googlemaps_02', 'datos_locales_googlemaps_03', 'datos_locales_googlemaps_04']:\n",
    "    df = globals()[nombre_df]  # Obtener el DataFrame según el nombre\n",
    "    columnas_listas = listas(df)\n",
    "    print(f\"Columnas con listas en {nombre_df}:\")\n",
    "    print(columnas_listas)"
   ]
  },
  {
   "cell_type": "code",
   "execution_count": 31,
   "metadata": {},
   "outputs": [
    {
     "name": "stdout",
     "output_type": "stream",
     "text": [
      "Columnas con listas en datos_locales_googlemaps_01:\n",
      "['MISC']\n",
      "Columnas con listas en datos_locales_googlemaps_02:\n",
      "['MISC']\n",
      "Columnas con listas en datos_locales_googlemaps_03:\n",
      "['MISC']\n",
      "Columnas con listas en datos_locales_googlemaps_04:\n",
      "['MISC']\n"
     ]
    }
   ],
   "source": [
    "# Función para identificar columnas con DICCIONARIOS\n",
    "def diccionario(df):\n",
    "    columnas_diccionario = []\n",
    "    for columna in df.columns:\n",
    "        if any(isinstance(valor, dict) for valor in df[columna]):\n",
    "            columnas_diccionario.append(columna)\n",
    "    return columnas_diccionario\n",
    "\n",
    "# Iterar sobre los DataFrames y encontrar columnas con listas\n",
    "for nombre_df in ['datos_locales_googlemaps_01', 'datos_locales_googlemaps_02', 'datos_locales_googlemaps_03', 'datos_locales_googlemaps_04']:\n",
    "    df = globals()[nombre_df]  # Obtener el DataFrame según el nombre\n",
    "    columnas_diccionario = diccionario(df)\n",
    "    print(f\"Columnas con listas en {nombre_df}:\")\n",
    "    print(columnas_diccionario)"
   ]
  },
  {
   "cell_type": "code",
   "execution_count": 32,
   "metadata": {},
   "outputs": [],
   "source": [
    "# ELIMINACIÓN DE LAS COLUMNAS INNECESARIAS...\n",
    "\n",
    "columnas_a_eliminar = ['description', 'num_of_reviews', 'relative_results', 'url', 'MISC', 'hours', 'state', 'address', 'price']\n",
    "datos_locales_googlemaps_01 = datos_locales_googlemaps_01.drop(columnas_a_eliminar, axis=1)\n",
    "datos_locales_googlemaps_02 = datos_locales_googlemaps_02.drop(columnas_a_eliminar, axis=1)\n",
    "datos_locales_googlemaps_03 = datos_locales_googlemaps_03.drop(columnas_a_eliminar, axis=1)\n",
    "datos_locales_googlemaps_04 = datos_locales_googlemaps_04.drop(columnas_a_eliminar, axis=1)"
   ]
  },
  {
   "cell_type": "code",
   "execution_count": 33,
   "metadata": {},
   "outputs": [
    {
     "name": "stderr",
     "output_type": "stream",
     "text": [
      "C:\\Users\\Yaide\\AppData\\Local\\Temp\\ipykernel_14304\\3666637890.py:10: FutureWarning: DataFrame.applymap has been deprecated. Use DataFrame.map instead.\n",
      "  datos_locales_googlemaps_01 = datos_locales_googlemaps_01.applymap(convertir_a_str)\n"
     ]
    },
    {
     "name": "stderr",
     "output_type": "stream",
     "text": [
      "C:\\Users\\Yaide\\AppData\\Local\\Temp\\ipykernel_14304\\3666637890.py:11: FutureWarning: DataFrame.applymap has been deprecated. Use DataFrame.map instead.\n",
      "  datos_locales_googlemaps_02 = datos_locales_googlemaps_02.applymap(convertir_a_str)\n",
      "C:\\Users\\Yaide\\AppData\\Local\\Temp\\ipykernel_14304\\3666637890.py:12: FutureWarning: DataFrame.applymap has been deprecated. Use DataFrame.map instead.\n",
      "  datos_locales_googlemaps_03 = datos_locales_googlemaps_03.applymap(convertir_a_str)\n",
      "C:\\Users\\Yaide\\AppData\\Local\\Temp\\ipykernel_14304\\3666637890.py:13: FutureWarning: DataFrame.applymap has been deprecated. Use DataFrame.map instead.\n",
      "  datos_locales_googlemaps_04 = datos_locales_googlemaps_04.applymap(convertir_a_str)\n"
     ]
    }
   ],
   "source": [
    "# ELIMINACIÓN DE LOS DATOS DUPLICADOS...\n",
    "\n",
    "# Función para convertir listas en cadenas\n",
    "def convertir_a_str(valor):\n",
    "    if isinstance(valor, list):\n",
    "        return str(valor)\n",
    "    return valor\n",
    "\n",
    "# Convertir las listas en cadenas en cada DataFrame\n",
    "datos_locales_googlemaps_01 = datos_locales_googlemaps_01.applymap(convertir_a_str)\n",
    "datos_locales_googlemaps_02 = datos_locales_googlemaps_02.applymap(convertir_a_str)\n",
    "datos_locales_googlemaps_03 = datos_locales_googlemaps_03.applymap(convertir_a_str)\n",
    "datos_locales_googlemaps_04 = datos_locales_googlemaps_04.applymap(convertir_a_str)\n",
    "\n",
    "# Eliminar filas duplicadas en cada DataFrame\n",
    "datos_locales_googlemaps_01 = datos_locales_googlemaps_01.drop_duplicates()\n",
    "datos_locales_googlemaps_02 = datos_locales_googlemaps_02.drop_duplicates()\n",
    "datos_locales_googlemaps_03 = datos_locales_googlemaps_03.drop_duplicates()\n",
    "datos_locales_googlemaps_04 = datos_locales_googlemaps_04.drop_duplicates()"
   ]
  },
  {
   "cell_type": "code",
   "execution_count": 34,
   "metadata": {},
   "outputs": [],
   "source": [
    "# RENOMBRAR COLUMNAS...\n",
    "\n",
    "nuevos_nombres = {'name': 'NOMBRE_DEL_SITIO', 'gmap_id': 'ID_Gmaps', 'latitude': 'LATITUD', 'longitude': 'LONGITUD', 'category': 'CATEGORIA', 'avg_rating': 'CALIFICACIÓN_PROMEDIO'}\n",
    "datos_locales_googlemaps_01 = datos_locales_googlemaps_01.rename(columns=nuevos_nombres)\n",
    "datos_locales_googlemaps_02 = datos_locales_googlemaps_02.rename(columns=nuevos_nombres)\n",
    "datos_locales_googlemaps_03 = datos_locales_googlemaps_03.rename(columns=nuevos_nombres)\n",
    "datos_locales_googlemaps_04 = datos_locales_googlemaps_04.rename(columns=nuevos_nombres)"
   ]
  },
  {
   "cell_type": "code",
   "execution_count": 35,
   "metadata": {},
   "outputs": [],
   "source": [
    "# TRABAJO CON LA COLUMNA CATEGORIA...\n",
    "\n",
    "# Eliminar los corchetes de la columna 'CATEGORIA'\n",
    "datos_locales_googlemaps_01['CATEGORIA'] = datos_locales_googlemaps_01['CATEGORIA'].str.replace('[', '', regex=False)\n",
    "datos_locales_googlemaps_01['CATEGORIA'] = datos_locales_googlemaps_01['CATEGORIA'].str.replace(']', '', regex=False)\n",
    "\n",
    "datos_locales_googlemaps_02['CATEGORIA'] = datos_locales_googlemaps_02['CATEGORIA'].str.replace('[', '', regex=False)\n",
    "datos_locales_googlemaps_02['CATEGORIA'] = datos_locales_googlemaps_02['CATEGORIA'].str.replace(']', '', regex=False)\n",
    "\n",
    "datos_locales_googlemaps_03['CATEGORIA'] = datos_locales_googlemaps_03['CATEGORIA'].str.replace('[', '', regex=False)\n",
    "datos_locales_googlemaps_03['CATEGORIA'] = datos_locales_googlemaps_03['CATEGORIA'].str.replace(']', '', regex=False)\n",
    "\n",
    "datos_locales_googlemaps_04['CATEGORIA'] = datos_locales_googlemaps_04['CATEGORIA'].str.replace('[', '', regex=False)\n",
    "datos_locales_googlemaps_04['CATEGORIA'] = datos_locales_googlemaps_04['CATEGORIA'].str.replace(']', '', regex=False)"
   ]
  },
  {
   "cell_type": "code",
   "execution_count": 36,
   "metadata": {},
   "outputs": [],
   "source": [
    "# TRATAMIENTO DE VALORES NULOS...\n",
    "\n",
    "datos_locales_googlemaps_01 = datos_locales_googlemaps_01.dropna(subset=['CATEGORIA']).reset_index(drop=True)\n",
    "datos_locales_googlemaps_02 = datos_locales_googlemaps_02.dropna(subset=['CATEGORIA']).reset_index(drop=True)\n",
    "datos_locales_googlemaps_03 = datos_locales_googlemaps_03.dropna(subset=['CATEGORIA']).reset_index(drop=True)\n",
    "datos_locales_googlemaps_04 = datos_locales_googlemaps_04.dropna(subset=['CATEGORIA']).reset_index(drop=True)"
   ]
  },
  {
   "cell_type": "code",
   "execution_count": 37,
   "metadata": {},
   "outputs": [],
   "source": [
    "# FILTRADO DE LOS DATOS...\n",
    "\n",
    "datos_locales_googlemaps_01 = datos_locales_googlemaps_01[datos_locales_googlemaps_01['CATEGORIA'].str.contains('restaurant', case=False)].reset_index(drop=True)\n",
    "datos_locales_googlemaps_02 = datos_locales_googlemaps_02[datos_locales_googlemaps_02['CATEGORIA'].str.contains('restaurant', case=False)].reset_index(drop=True)\n",
    "datos_locales_googlemaps_03 = datos_locales_googlemaps_03[datos_locales_googlemaps_03['CATEGORIA'].str.contains('restaurant', case=False)].reset_index(drop=True)\n",
    "datos_locales_googlemaps_04 = datos_locales_googlemaps_04[datos_locales_googlemaps_04['CATEGORIA'].str.contains('restaurant', case=False)].reset_index(drop=True)"
   ]
  },
  {
   "cell_type": "code",
   "execution_count": 38,
   "metadata": {},
   "outputs": [],
   "source": [
    "# UNIFICACIÓN DE LOS CUATRO DATAFRAMES...\n",
    "\n",
    "# Lista de los DataFrames\n",
    "dataframes = [datos_locales_googlemaps_01, datos_locales_googlemaps_02, datos_locales_googlemaps_03, datos_locales_googlemaps_04]\n",
    "\n",
    "# Concatenar los DataFrames\n",
    "datos_locales_googlemaps = pd.concat(dataframes, ignore_index=True)"
   ]
  },
  {
   "cell_type": "code",
   "execution_count": 39,
   "metadata": {},
   "outputs": [],
   "source": [
    "# TRATAMIENTO DE VALORES DEL DATAFRAME...\n",
    "\n",
    "# Identificar valores nulos en el DataFrame y contarlos por columna\n",
    "valores_nulos = datos_locales_googlemaps.isnull().sum()\n",
    "\n",
    "# Identificar valores faltantes (en blanco) en el DataFrame y contarlos por columna\n",
    "valores_faltantes = (datos_locales_googlemaps == '').sum()\n",
    "\n",
    "# Identificar valores iguales a \"SD\" en el DataFrame y contarlos por columna\n",
    "valores_SD = (datos_locales_googlemaps == 'SD').sum()\n",
    "\n",
    "# Identificar valores iguales a \"sd\" en el DataFrame y contarlos por columna\n",
    "valores_sd = (datos_locales_googlemaps == 'sd').sum()\n",
    "\n",
    "# Calcular porcentajes\n",
    "porcentaje_nulos = (valores_nulos / len(datos_locales_googlemaps)) * 100\n",
    "porcentaje_faltantes = (valores_faltantes / len(datos_locales_googlemaps)) * 100\n",
    "porcentaje_SD = (valores_SD / len(datos_locales_googlemaps)) * 100\n",
    "porcentaje_sd = (valores_sd / len(datos_locales_googlemaps)) * 100\n",
    "\n",
    "# Crear un DataFrame con los resultados\n",
    "resultados = pd.DataFrame({\n",
    "    'Valores Nulos': valores_nulos,\n",
    "    'Porcentaje Nulos': porcentaje_nulos,\n",
    "    'Valores Faltantes': valores_faltantes,\n",
    "    'Porcentaje Faltantes': porcentaje_faltantes,\n",
    "    'Valores \"SD\"': valores_SD,\n",
    "    'Porcentaje \"SD\"': porcentaje_SD,\n",
    "    'Valores \"sd\"': valores_sd,\n",
    "    'Porcentaje \"sd\"': porcentaje_sd\n",
    "})"
   ]
  },
  {
   "cell_type": "code",
   "execution_count": 40,
   "metadata": {},
   "outputs": [
    {
     "data": {
      "text/html": [
       "<div>\n",
       "<style scoped>\n",
       "    .dataframe tbody tr th:only-of-type {\n",
       "        vertical-align: middle;\n",
       "    }\n",
       "\n",
       "    .dataframe tbody tr th {\n",
       "        vertical-align: top;\n",
       "    }\n",
       "\n",
       "    .dataframe thead th {\n",
       "        text-align: right;\n",
       "    }\n",
       "</style>\n",
       "<table border=\"1\" class=\"dataframe\">\n",
       "  <thead>\n",
       "    <tr style=\"text-align: right;\">\n",
       "      <th></th>\n",
       "      <th>Valores Nulos</th>\n",
       "      <th>Porcentaje Nulos</th>\n",
       "      <th>Valores Faltantes</th>\n",
       "      <th>Porcentaje Faltantes</th>\n",
       "      <th>Valores \"SD\"</th>\n",
       "      <th>Porcentaje \"SD\"</th>\n",
       "      <th>Valores \"sd\"</th>\n",
       "      <th>Porcentaje \"sd\"</th>\n",
       "    </tr>\n",
       "  </thead>\n",
       "  <tbody>\n",
       "    <tr>\n",
       "      <th>NOMBRE_DEL_SITIO</th>\n",
       "      <td>0</td>\n",
       "      <td>0.0</td>\n",
       "      <td>0</td>\n",
       "      <td>0.0</td>\n",
       "      <td>0</td>\n",
       "      <td>0.0</td>\n",
       "      <td>0</td>\n",
       "      <td>0.0</td>\n",
       "    </tr>\n",
       "    <tr>\n",
       "      <th>ID_Gmaps</th>\n",
       "      <td>0</td>\n",
       "      <td>0.0</td>\n",
       "      <td>0</td>\n",
       "      <td>0.0</td>\n",
       "      <td>0</td>\n",
       "      <td>0.0</td>\n",
       "      <td>0</td>\n",
       "      <td>0.0</td>\n",
       "    </tr>\n",
       "    <tr>\n",
       "      <th>LATITUD</th>\n",
       "      <td>0</td>\n",
       "      <td>0.0</td>\n",
       "      <td>0</td>\n",
       "      <td>0.0</td>\n",
       "      <td>0</td>\n",
       "      <td>0.0</td>\n",
       "      <td>0</td>\n",
       "      <td>0.0</td>\n",
       "    </tr>\n",
       "    <tr>\n",
       "      <th>LONGITUD</th>\n",
       "      <td>0</td>\n",
       "      <td>0.0</td>\n",
       "      <td>0</td>\n",
       "      <td>0.0</td>\n",
       "      <td>0</td>\n",
       "      <td>0.0</td>\n",
       "      <td>0</td>\n",
       "      <td>0.0</td>\n",
       "    </tr>\n",
       "    <tr>\n",
       "      <th>CATEGORIA</th>\n",
       "      <td>0</td>\n",
       "      <td>0.0</td>\n",
       "      <td>0</td>\n",
       "      <td>0.0</td>\n",
       "      <td>0</td>\n",
       "      <td>0.0</td>\n",
       "      <td>0</td>\n",
       "      <td>0.0</td>\n",
       "    </tr>\n",
       "    <tr>\n",
       "      <th>CALIFICACIÓN_PROMEDIO</th>\n",
       "      <td>0</td>\n",
       "      <td>0.0</td>\n",
       "      <td>0</td>\n",
       "      <td>0.0</td>\n",
       "      <td>0</td>\n",
       "      <td>0.0</td>\n",
       "      <td>0</td>\n",
       "      <td>0.0</td>\n",
       "    </tr>\n",
       "  </tbody>\n",
       "</table>\n",
       "</div>"
      ],
      "text/plain": [
       "                       Valores Nulos  Porcentaje Nulos  Valores Faltantes  \\\n",
       "NOMBRE_DEL_SITIO                   0               0.0                  0   \n",
       "ID_Gmaps                           0               0.0                  0   \n",
       "LATITUD                            0               0.0                  0   \n",
       "LONGITUD                           0               0.0                  0   \n",
       "CATEGORIA                          0               0.0                  0   \n",
       "CALIFICACIÓN_PROMEDIO              0               0.0                  0   \n",
       "\n",
       "                       Porcentaje Faltantes  Valores \"SD\"  Porcentaje \"SD\"  \\\n",
       "NOMBRE_DEL_SITIO                        0.0             0              0.0   \n",
       "ID_Gmaps                                0.0             0              0.0   \n",
       "LATITUD                                 0.0             0              0.0   \n",
       "LONGITUD                                0.0             0              0.0   \n",
       "CATEGORIA                               0.0             0              0.0   \n",
       "CALIFICACIÓN_PROMEDIO                   0.0             0              0.0   \n",
       "\n",
       "                       Valores \"sd\"  Porcentaje \"sd\"  \n",
       "NOMBRE_DEL_SITIO                  0              0.0  \n",
       "ID_Gmaps                          0              0.0  \n",
       "LATITUD                           0              0.0  \n",
       "LONGITUD                          0              0.0  \n",
       "CATEGORIA                         0              0.0  \n",
       "CALIFICACIÓN_PROMEDIO             0              0.0  "
      ]
     },
     "execution_count": 40,
     "metadata": {},
     "output_type": "execute_result"
    }
   ],
   "source": [
    "resultados"
   ]
  },
  {
   "cell_type": "markdown",
   "metadata": {},
   "source": [
    "# PROCESO DE ALMACENAMIENTO DE DATOS..."
   ]
  },
  {
   "cell_type": "code",
   "execution_count": 41,
   "metadata": {},
   "outputs": [],
   "source": [
    "# Especifica la ruta del directorio donde deseas guardar los DataFrames en formato Parquet\n",
    "carpeta_DATASET_LIMPIO = 'dataset_limpio'\n",
    "\n",
    "# Verifica si la carpeta ya existe, si no, créala\n",
    "if not os.path.exists(carpeta_DATASET_LIMPIO):\n",
    "    os.makedirs(carpeta_DATASET_LIMPIO)\n",
    "\n",
    "# Guarda los DataFrames en archivos Parquet\n",
    "datos_locales_googlemaps.to_parquet(os.path.join(carpeta_DATASET_LIMPIO, \"datos_locales_googlemaps.parquet\"))"
   ]
  }
 ],
 "metadata": {
  "kernelspec": {
   "display_name": "venv",
   "language": "python",
   "name": "python3"
  },
  "language_info": {
   "codemirror_mode": {
    "name": "ipython",
    "version": 3
   },
   "file_extension": ".py",
   "mimetype": "text/x-python",
   "name": "python",
   "nbconvert_exporter": "python",
   "pygments_lexer": "ipython3",
   "version": "3.11.5"
  }
 },
 "nbformat": 4,
 "nbformat_minor": 2
}
