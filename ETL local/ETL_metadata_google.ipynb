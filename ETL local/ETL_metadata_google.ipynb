{
 "cells": [
  {
   "cell_type": "code",
   "execution_count": 23,
   "metadata": {},
   "outputs": [],
   "source": [
    "import pandas as pd\n",
    "import numpy as np\n",
    "import matplotlib.pyplot as plt\n",
    "import seaborn as sns \n",
    "import json\n",
    "import re\n",
    "import plotly.express as px\n",
    "from datetime import datetime"
   ]
  },
  {
   "cell_type": "markdown",
   "metadata": {},
   "source": [
    "## Importo los archivos de metadata por separado "
   ]
  },
  {
   "cell_type": "code",
   "execution_count": 2,
   "metadata": {},
   "outputs": [],
   "source": [
    "ruta_archivo = 'Google/metadata-sitios/2.json'\n",
    "\n",
    "# Lee el contenido del archivo JSON línea por línea\n",
    "datos_json = []\n",
    "with open(ruta_archivo, 'r') as archivo:\n",
    "    for linea in archivo:\n",
    "        datos_json.append(json.loads(linea))\n",
    "\n",
    "# Convierte los datos en un DataFrame de pandas\n",
    "df2 = pd.DataFrame(datos_json)"
   ]
  },
  {
   "cell_type": "code",
   "execution_count": 3,
   "metadata": {},
   "outputs": [],
   "source": [
    "ruta_archivo = 'Google/metadata-sitios/3.json'\n",
    "\n",
    "# Lee el contenido del archivo JSON línea por línea\n",
    "datos_json = []\n",
    "with open(ruta_archivo, 'r') as archivo:\n",
    "    for linea in archivo:\n",
    "        datos_json.append(json.loads(linea))\n",
    "\n",
    "# Convierte los datos en un DataFrame de pandas\n",
    "df3 = pd.DataFrame(datos_json)"
   ]
  },
  {
   "cell_type": "code",
   "execution_count": 4,
   "metadata": {},
   "outputs": [],
   "source": [
    "ruta_archivo = 'Google/metadata-sitios/4.json'\n",
    "\n",
    "# Lee el contenido del archivo JSON línea por línea\n",
    "datos_json = []\n",
    "with open(ruta_archivo, 'r') as archivo:\n",
    "    for linea in archivo:\n",
    "        datos_json.append(json.loads(linea))\n",
    "\n",
    "# Convierte los datos en un DataFrame de pandas\n",
    "df4 = pd.DataFrame(datos_json)"
   ]
  },
  {
   "cell_type": "code",
   "execution_count": 5,
   "metadata": {},
   "outputs": [],
   "source": [
    "ruta_archivo = 'Google/metadata-sitios/5.json'\n",
    "\n",
    "# Lee el contenido del archivo JSON línea por línea\n",
    "datos_json = []\n",
    "with open(ruta_archivo, 'r') as archivo:\n",
    "    for linea in archivo:\n",
    "        datos_json.append(json.loads(linea))\n",
    "\n",
    "# Convierte los datos en un DataFrame de pandas\n",
    "df5 = pd.DataFrame(datos_json)"
   ]
  },
  {
   "cell_type": "code",
   "execution_count": 6,
   "metadata": {},
   "outputs": [],
   "source": [
    "ruta_archivo = 'Google/metadata-sitios/6.json'\n",
    "\n",
    "# Lee el contenido del archivo JSON línea por línea\n",
    "datos_json = []\n",
    "with open(ruta_archivo, 'r') as archivo:\n",
    "    for linea in archivo:\n",
    "        datos_json.append(json.loads(linea))\n",
    "\n",
    "# Convierte los datos en un DataFrame de pandas\n",
    "df6 = pd.DataFrame(datos_json)"
   ]
  },
  {
   "cell_type": "code",
   "execution_count": 7,
   "metadata": {},
   "outputs": [],
   "source": [
    "ruta_archivo = 'Google/metadata-sitios/7.json'\n",
    "\n",
    "# Lee el contenido del archivo JSON línea por línea\n",
    "datos_json = []\n",
    "with open(ruta_archivo, 'r') as archivo:\n",
    "    for linea in archivo:\n",
    "        datos_json.append(json.loads(linea))\n",
    "\n",
    "# Convierte los datos en un DataFrame de pandas\n",
    "df7 = pd.DataFrame(datos_json)"
   ]
  },
  {
   "cell_type": "code",
   "execution_count": 8,
   "metadata": {},
   "outputs": [],
   "source": [
    "ruta_archivo = 'Google/metadata-sitios/8.json'\n",
    "\n",
    "# Lee el contenido del archivo JSON línea por línea\n",
    "datos_json = []\n",
    "with open(ruta_archivo, 'r') as archivo:\n",
    "    for linea in archivo:\n",
    "        datos_json.append(json.loads(linea))\n",
    "\n",
    "# Convierte los datos en un DataFrame de pandas\n",
    "df8 = pd.DataFrame(datos_json)"
   ]
  },
  {
   "cell_type": "code",
   "execution_count": 9,
   "metadata": {},
   "outputs": [],
   "source": [
    "ruta_archivo = 'Google/metadata-sitios/9.json'\n",
    "\n",
    "# Lee el contenido del archivo JSON línea por línea\n",
    "datos_json = []\n",
    "with open(ruta_archivo, 'r') as archivo:\n",
    "    for linea in archivo:\n",
    "        datos_json.append(json.loads(linea))\n",
    "\n",
    "# Convierte los datos en un DataFrame de pandas\n",
    "df9 = pd.DataFrame(datos_json)"
   ]
  },
  {
   "cell_type": "code",
   "execution_count": 10,
   "metadata": {},
   "outputs": [],
   "source": [
    "ruta_archivo = 'Google/metadata-sitios/10.json'\n",
    "\n",
    "# Lee el contenido del archivo JSON línea por línea\n",
    "datos_json = []\n",
    "with open(ruta_archivo, 'r') as archivo:\n",
    "    for linea in archivo:\n",
    "        datos_json.append(json.loads(linea))\n",
    "\n",
    "# Convierte los datos en un DataFrame de pandas\n",
    "df10 = pd.DataFrame(datos_json)"
   ]
  },
  {
   "cell_type": "code",
   "execution_count": 11,
   "metadata": {},
   "outputs": [],
   "source": [
    "ruta_archivo = 'Google/metadata-sitios/11.json'\n",
    "\n",
    "# Lee el contenido del archivo JSON línea por línea\n",
    "datos_json = []\n",
    "with open(ruta_archivo, 'r') as archivo:\n",
    "    for linea in archivo:\n",
    "        datos_json.append(json.loads(linea))\n",
    "\n",
    "# Convierte los datos en un DataFrame de pandas\n",
    "df11 = pd.DataFrame(datos_json)"
   ]
  },
  {
   "cell_type": "code",
   "execution_count": 12,
   "metadata": {},
   "outputs": [],
   "source": [
    "ruta_archivo = 'Google/metadata-sitios/1.json'\n",
    "\n",
    "# Lee el contenido del archivo JSON línea por línea\n",
    "datos_json = []\n",
    "with open(ruta_archivo, 'r') as archivo:\n",
    "    for linea in archivo:\n",
    "        datos_json.append(json.loads(linea))\n",
    "\n",
    "# Convierte los datos en un DataFrame de pandas\n",
    "df1 = pd.DataFrame(datos_json)"
   ]
  },
  {
   "cell_type": "markdown",
   "metadata": {},
   "source": [
    "## Creo funcion que extrae estado y filtramos los datos de interes"
   ]
  },
  {
   "cell_type": "code",
   "execution_count": 13,
   "metadata": {},
   "outputs": [],
   "source": [
    "# Lista de estados de interés con sus abreviaturas de dos letras\n",
    "estados_interes = ['PA', 'FL', 'CA']\n",
    "\n",
    "# Define la función para extraer el estado\n",
    "def extract_state(address):\n",
    "    if address is not None:\n",
    "        # Utilizar expresión regular para encontrar la cuarta sección y eliminar los números\n",
    "        parts = address.split(\",\")\n",
    "        if len(parts) >= 4:\n",
    "            match = re.search(r'[A-Za-z]+', parts[3])\n",
    "            if match:\n",
    "                return match.group()\n",
    "    return None\n",
    "\n",
    "# Define una función para filtrar los DataFrames\n",
    "def filtrar_por_estado(df):\n",
    "    # Aplica la función para extraer el estado\n",
    "    df['estado'] = df['address'].apply(extract_state)\n",
    "    # Elimina la columna 'address'\n",
    "    df.drop(columns=['address'], inplace=True)\n",
    "    # Filtra las filas que tienen los estados de interés\n",
    "    return df[df['estado'].isin(estados_interes)]\n",
    "\n",
    "# Itera sobre todos los DataFrames df1, df2, ..., df11\n",
    "for i in range(1, 12):\n",
    "    nombre_df = f'df{i}'\n",
    "    globals()[nombre_df] = filtrar_por_estado(globals()[nombre_df])"
   ]
  },
  {
   "cell_type": "markdown",
   "metadata": {},
   "source": [
    "## Concatenamos los df filtrados"
   ]
  },
  {
   "cell_type": "code",
   "execution_count": 14,
   "metadata": {},
   "outputs": [],
   "source": [
    "# Crear una lista de DataFrames\n",
    "lista_df_filtrados = [df1, df2, df3, df4, df5, df6, df7, df8, df9, df10, df11]\n",
    "\n",
    "# Concatenar los DataFrames de la lista\n",
    "df_concatenado = pd.concat(lista_df_filtrados, ignore_index=True)"
   ]
  },
  {
   "cell_type": "code",
   "execution_count": 15,
   "metadata": {},
   "outputs": [
    {
     "name": "stdout",
     "output_type": "stream",
     "text": [
      "<class 'pandas.core.frame.DataFrame'>\n",
      "RangeIndex: 566941 entries, 0 to 566940\n",
      "Data columns (total 15 columns):\n",
      " #   Column            Non-Null Count   Dtype  \n",
      "---  ------            --------------   -----  \n",
      " 0   name              566941 non-null  object \n",
      " 1   gmap_id           566941 non-null  object \n",
      " 2   description       56502 non-null   object \n",
      " 3   latitude          566941 non-null  float64\n",
      " 4   longitude         566941 non-null  float64\n",
      " 5   category          563472 non-null  object \n",
      " 6   avg_rating        566941 non-null  float64\n",
      " 7   num_of_reviews    566941 non-null  int64  \n",
      " 8   price             59085 non-null   object \n",
      " 9   hours             439224 non-null  object \n",
      " 10  MISC              460982 non-null  object \n",
      " 11  state             445792 non-null  object \n",
      " 12  relative_results  520311 non-null  object \n",
      " 13  url               566941 non-null  object \n",
      " 14  estado            566941 non-null  object \n",
      "dtypes: float64(3), int64(1), object(11)\n",
      "memory usage: 64.9+ MB\n"
     ]
    }
   ],
   "source": [
    "df_concatenado.info()"
   ]
  },
  {
   "cell_type": "markdown",
   "metadata": {},
   "source": [
    "## Vemos de quedarnos solo con los locales del rubro gastronomico\n"
   ]
  },
  {
   "cell_type": "code",
   "execution_count": 16,
   "metadata": {},
   "outputs": [],
   "source": [
    "# Definir palabras clave asociadas al rubro gastronómico\n",
    "palabras_clave_gastronomico = ['restaurant', 'restaurants' , 'food', 'cafe', 'bar', 'bars' , 'bakery', 'fast food' , 'tacos' , 'salad' , 'bistro', 'diner', 'grill', 'eatery', 'pub', 'tavern', 'pizzeria', 'deli', 'snack bar', 'food truck' , 'pizza' , 'chicken', 'sushi', 'steakhouse', 'seafood', 'ramen', 'noodle bar', 'buffet', 'tapas', 'food court', 'burger joint', 'ice cream shop', 'coffee shop', 'juice bar', 'bagel shop', 'sandwich shop', 'creperie', 'hot dog stand', 'vegetarian', 'vegan', 'bbq', 'barbecue', 'ethnic restaurant', 'fine dining', 'casual dining', 'family restaurant', 'gastropub', 'brewpub', 'teahouse', 'dive bar', 'sports bar', 'wine bar', 'brewery', 'distillery', 'wine tasting room', 'brewpub', 'taproom', 'bottle shop', 'cocktail bar', 'karaoke bar', 'izakaya', 'fondue', 'hot pot ', 'hamburger', 'dim sum restaurant', 'fusion restaurant', 'hot dog', 'noodle shop', 'ramen', 'steak house', 'taco stand', 'taco restaurant']\n",
    "\n",
    "# Convertir las cadenas de texto a listas si es necesario\n",
    "df_concatenado['category'] = df_concatenado['category'].apply(lambda x: x.split(', ') if isinstance(x, str) else x)\n",
    "\n",
    "# Convertir las listas de categorías a strings separados por comas\n",
    "df_concatenado['category'] = df_concatenado['category'].apply(lambda x: ', '.join(x) if isinstance(x, list) else x)\n",
    "\n",
    "# Filtrar los valores nulos en el campo 'category'\n",
    "metadata = df_concatenado.dropna(subset=['category'])\n",
    "\n",
    "# Filtrar el DataFrame para obtener solo las filas con categorías gastronómicas\n",
    "locales_gastronomicos = metadata[metadata['category'].apply(lambda x: any(keyword in x.lower() for keyword in palabras_clave_gastronomico))]\n"
   ]
  },
  {
   "cell_type": "markdown",
   "metadata": {},
   "source": [
    "## Eliminamos duplicados y nulos"
   ]
  },
  {
   "cell_type": "code",
   "execution_count": 18,
   "metadata": {},
   "outputs": [],
   "source": [
    "locales_gastronomicos = locales_gastronomicos.drop_duplicates(subset=['gmap_id'])\n"
   ]
  },
  {
   "cell_type": "code",
   "execution_count": 19,
   "metadata": {},
   "outputs": [],
   "source": [
    "locales_gastronomicos = locales_gastronomicos.dropna(subset=['gmap_id'])\n"
   ]
  },
  {
   "cell_type": "markdown",
   "metadata": {},
   "source": [
    "## Evaluamos el resultado parcial"
   ]
  },
  {
   "cell_type": "code",
   "execution_count": 21,
   "metadata": {},
   "outputs": [
    {
     "data": {
      "text/html": [
       "<div>\n",
       "<style scoped>\n",
       "    .dataframe tbody tr th:only-of-type {\n",
       "        vertical-align: middle;\n",
       "    }\n",
       "\n",
       "    .dataframe tbody tr th {\n",
       "        vertical-align: top;\n",
       "    }\n",
       "\n",
       "    .dataframe thead th {\n",
       "        text-align: right;\n",
       "    }\n",
       "</style>\n",
       "<table border=\"1\" class=\"dataframe\">\n",
       "  <thead>\n",
       "    <tr style=\"text-align: right;\">\n",
       "      <th></th>\n",
       "      <th>name</th>\n",
       "      <th>gmap_id</th>\n",
       "      <th>description</th>\n",
       "      <th>latitude</th>\n",
       "      <th>longitude</th>\n",
       "      <th>category</th>\n",
       "      <th>avg_rating</th>\n",
       "      <th>num_of_reviews</th>\n",
       "      <th>price</th>\n",
       "      <th>hours</th>\n",
       "      <th>MISC</th>\n",
       "      <th>state</th>\n",
       "      <th>relative_results</th>\n",
       "      <th>url</th>\n",
       "      <th>estado</th>\n",
       "    </tr>\n",
       "  </thead>\n",
       "  <tbody>\n",
       "    <tr>\n",
       "      <th>1</th>\n",
       "      <td>San Soo Dang</td>\n",
       "      <td>0x80c2c778e3b73d33:0xbdc58662a4a97d49</td>\n",
       "      <td>None</td>\n",
       "      <td>34.058092</td>\n",
       "      <td>-118.292130</td>\n",
       "      <td>Korean restaurant</td>\n",
       "      <td>4.4</td>\n",
       "      <td>18</td>\n",
       "      <td>None</td>\n",
       "      <td>[[Thursday, 6:30AM–6PM], [Friday, 6:30AM–6PM],...</td>\n",
       "      <td>{'Service options': ['Takeout', 'Dine-in', 'De...</td>\n",
       "      <td>Open ⋅ Closes 6PM</td>\n",
       "      <td>[0x80c2c78249aba68f:0x35bf16ce61be751d, 0x80c2...</td>\n",
       "      <td>https://www.google.com/maps/place//data=!4m2!3...</td>\n",
       "      <td>CA</td>\n",
       "    </tr>\n",
       "    <tr>\n",
       "      <th>5</th>\n",
       "      <td>Vons Chicken</td>\n",
       "      <td>0x80dd2b4c8555edb7:0xfc33d65c4bdbef42</td>\n",
       "      <td>None</td>\n",
       "      <td>33.916402</td>\n",
       "      <td>-118.010855</td>\n",
       "      <td>Restaurant</td>\n",
       "      <td>4.5</td>\n",
       "      <td>18</td>\n",
       "      <td>None</td>\n",
       "      <td>[[Thursday, 11AM–9:30PM], [Friday, 11AM–9:30PM...</td>\n",
       "      <td>{'Service options': ['Outdoor seating', 'Curbs...</td>\n",
       "      <td>Open ⋅ Closes 9:30PM</td>\n",
       "      <td>None</td>\n",
       "      <td>https://www.google.com/maps/place//data=!4m2!3...</td>\n",
       "      <td>CA</td>\n",
       "    </tr>\n",
       "    <tr>\n",
       "      <th>24</th>\n",
       "      <td>Primo Pizza &amp; Subs</td>\n",
       "      <td>0x89c46d5e4554eae1:0xa2f8b211524ca29a</td>\n",
       "      <td>None</td>\n",
       "      <td>40.682177</td>\n",
       "      <td>-75.209820</td>\n",
       "      <td>Pizza delivery</td>\n",
       "      <td>4.5</td>\n",
       "      <td>25</td>\n",
       "      <td>$$</td>\n",
       "      <td>[[Thursday, 11AM–9PM], [Friday, 11AM–10PM], [S...</td>\n",
       "      <td>{'Service options': ['No-contact delivery', 'D...</td>\n",
       "      <td>Open ⋅ Closes 9PM</td>\n",
       "      <td>[0x89c46c56cac9c661:0xdc9d0dd3f2b203ae, 0x89c4...</td>\n",
       "      <td>https://www.google.com/maps/place//data=!4m2!3...</td>\n",
       "      <td>PA</td>\n",
       "    </tr>\n",
       "    <tr>\n",
       "      <th>30</th>\n",
       "      <td>The Boochyard @ Local Roots</td>\n",
       "      <td>0x80dc7588a897ed91:0x190ac94f6ebb8c76</td>\n",
       "      <td>None</td>\n",
       "      <td>33.136034</td>\n",
       "      <td>-117.224863</td>\n",
       "      <td>Brewery</td>\n",
       "      <td>4.9</td>\n",
       "      <td>38</td>\n",
       "      <td>None</td>\n",
       "      <td>[[Thursday, 3–8PM], [Friday, 3–9PM], [Saturday...</td>\n",
       "      <td>{'Service options': ['Delivery'], 'Accessibili...</td>\n",
       "      <td>Closed ⋅ Opens 3PM</td>\n",
       "      <td>[0x80dc76cb9d795c1f:0x9c650e782f4ee83b, 0x80dc...</td>\n",
       "      <td>https://www.google.com/maps/place//data=!4m2!3...</td>\n",
       "      <td>CA</td>\n",
       "    </tr>\n",
       "    <tr>\n",
       "      <th>31</th>\n",
       "      <td>Vivi Bubble Tea</td>\n",
       "      <td>0x89c6c89efcaed69d:0xded973f6033e7dba</td>\n",
       "      <td>Bubble tea shop offering hot &amp; cold versions, ...</td>\n",
       "      <td>39.940293</td>\n",
       "      <td>-75.150923</td>\n",
       "      <td>Restaurant</td>\n",
       "      <td>4.0</td>\n",
       "      <td>8</td>\n",
       "      <td>None</td>\n",
       "      <td>None</td>\n",
       "      <td>{'Service options': ['Delivery'], 'Amenities':...</td>\n",
       "      <td>None</td>\n",
       "      <td>[0x89c6c62a40f4b733:0x73bfeec1898f272b, 0x89c6...</td>\n",
       "      <td>https://www.google.com/maps/place//data=!4m2!3...</td>\n",
       "      <td>PA</td>\n",
       "    </tr>\n",
       "  </tbody>\n",
       "</table>\n",
       "</div>"
      ],
      "text/plain": [
       "                           name                                gmap_id  \\\n",
       "1                  San Soo Dang  0x80c2c778e3b73d33:0xbdc58662a4a97d49   \n",
       "5                  Vons Chicken  0x80dd2b4c8555edb7:0xfc33d65c4bdbef42   \n",
       "24           Primo Pizza & Subs  0x89c46d5e4554eae1:0xa2f8b211524ca29a   \n",
       "30  The Boochyard @ Local Roots  0x80dc7588a897ed91:0x190ac94f6ebb8c76   \n",
       "31              Vivi Bubble Tea  0x89c6c89efcaed69d:0xded973f6033e7dba   \n",
       "\n",
       "                                          description   latitude   longitude  \\\n",
       "1                                                None  34.058092 -118.292130   \n",
       "5                                                None  33.916402 -118.010855   \n",
       "24                                               None  40.682177  -75.209820   \n",
       "30                                               None  33.136034 -117.224863   \n",
       "31  Bubble tea shop offering hot & cold versions, ...  39.940293  -75.150923   \n",
       "\n",
       "             category  avg_rating  num_of_reviews price  \\\n",
       "1   Korean restaurant         4.4              18  None   \n",
       "5          Restaurant         4.5              18  None   \n",
       "24     Pizza delivery         4.5              25    $$   \n",
       "30            Brewery         4.9              38  None   \n",
       "31         Restaurant         4.0               8  None   \n",
       "\n",
       "                                                hours  \\\n",
       "1   [[Thursday, 6:30AM–6PM], [Friday, 6:30AM–6PM],...   \n",
       "5   [[Thursday, 11AM–9:30PM], [Friday, 11AM–9:30PM...   \n",
       "24  [[Thursday, 11AM–9PM], [Friday, 11AM–10PM], [S...   \n",
       "30  [[Thursday, 3–8PM], [Friday, 3–9PM], [Saturday...   \n",
       "31                                               None   \n",
       "\n",
       "                                                 MISC                 state  \\\n",
       "1   {'Service options': ['Takeout', 'Dine-in', 'De...     Open ⋅ Closes 6PM   \n",
       "5   {'Service options': ['Outdoor seating', 'Curbs...  Open ⋅ Closes 9:30PM   \n",
       "24  {'Service options': ['No-contact delivery', 'D...     Open ⋅ Closes 9PM   \n",
       "30  {'Service options': ['Delivery'], 'Accessibili...    Closed ⋅ Opens 3PM   \n",
       "31  {'Service options': ['Delivery'], 'Amenities':...                  None   \n",
       "\n",
       "                                     relative_results  \\\n",
       "1   [0x80c2c78249aba68f:0x35bf16ce61be751d, 0x80c2...   \n",
       "5                                                None   \n",
       "24  [0x89c46c56cac9c661:0xdc9d0dd3f2b203ae, 0x89c4...   \n",
       "30  [0x80dc76cb9d795c1f:0x9c650e782f4ee83b, 0x80dc...   \n",
       "31  [0x89c6c62a40f4b733:0x73bfeec1898f272b, 0x89c6...   \n",
       "\n",
       "                                                  url estado  \n",
       "1   https://www.google.com/maps/place//data=!4m2!3...     CA  \n",
       "5   https://www.google.com/maps/place//data=!4m2!3...     CA  \n",
       "24  https://www.google.com/maps/place//data=!4m2!3...     PA  \n",
       "30  https://www.google.com/maps/place//data=!4m2!3...     CA  \n",
       "31  https://www.google.com/maps/place//data=!4m2!3...     PA  "
      ]
     },
     "execution_count": 21,
     "metadata": {},
     "output_type": "execute_result"
    }
   ],
   "source": [
    "locales_gastronomicos.head()"
   ]
  },
  {
   "cell_type": "code",
   "execution_count": 22,
   "metadata": {},
   "outputs": [
    {
     "name": "stdout",
     "output_type": "stream",
     "text": [
      "estado\n",
      "CA    43700\n",
      "FL    24320\n",
      "PA    15642\n",
      "Name: count, dtype: int64\n"
     ]
    }
   ],
   "source": [
    "conteo_estados = locales_gastronomicos['estado'].value_counts()\n",
    "\n",
    "# Imprimir el conteo de estados\n",
    "print(conteo_estados)"
   ]
  },
  {
   "cell_type": "markdown",
   "metadata": {},
   "source": [
    "## Clasificamos los locales en 4 subcategorias"
   ]
  },
  {
   "cell_type": "code",
   "execution_count": 25,
   "metadata": {},
   "outputs": [],
   "source": [
    "# Definir listas de palabras clave para cada subcategoría\n",
    "palabras_clave_comida_rapida = ['fast food','burger joint', 'tacos', 'pizza', 'pizzeria', 'chicken',  'ramen', 'noodle bar', 'food truck', 'sandwich shop', 'creperie', 'hot dog stand', 'hot dog', 'noodle shop', 'taco stand']\n",
    "palabras_clave_cafeterias = ['cafe', 'bakery', 'coffee shop', 'juice bar', 'bagel shop', 'buffet', 'ice cream shop', 'teahouse']\n",
    "palabras_clave_bares = ['bar', 'bars', 'pub', 'tavern', 'cocktail bar', 'wine bar', 'brewery', 'sports bar', 'dive bar', 'karaoke bar','gastropub', 'brewpub', 'taproom']\n",
    "palabras_clave_restaurantes = ['restaurant', 'bistro', 'diner', 'grill', 'eatery', 'pub',  'deli','sushi',  'tapas', 'food court',  'fine dining', 'casual dining', 'family restaurant',  'fusion restaurant', 'izakaya', 'dim sum restaurant', 'steak house']"
   ]
  },
  {
   "cell_type": "code",
   "execution_count": 29,
   "metadata": {},
   "outputs": [],
   "source": [
    "# Función para categorizar cada local en una sola subcategoría\n",
    "def categorizar_subcategoria(categories):\n",
    "    for keyword in palabras_clave_comida_rapida:\n",
    "        if keyword in categories.lower():\n",
    "            return 'Comida rápida'\n",
    "    for keyword in palabras_clave_cafeterias:\n",
    "        if keyword in categories.lower():\n",
    "            return 'Cafetería'\n",
    "    for keyword in palabras_clave_bares:\n",
    "        if keyword in categories.lower():\n",
    "            return 'Bar'\n",
    "    for keyword in palabras_clave_restaurantes:\n",
    "        if keyword in categories.lower():\n",
    "            return 'Restaurante'\n",
    "    return 'Otro'  # Si ninguna palabra clave coincide, categorizar como 'Otro'\n",
    "\n",
    "# Aplicar la función de categorización para crear una nueva columna de subcategoría\n",
    "locales_gastronomicos['subcategoria'] = locales_gastronomicos['category'].apply(categorizar_subcategoria)\n"
   ]
  },
  {
   "cell_type": "code",
   "execution_count": 37,
   "metadata": {},
   "outputs": [
    {
     "data": {
      "text/html": [
       "<div>\n",
       "<style scoped>\n",
       "    .dataframe tbody tr th:only-of-type {\n",
       "        vertical-align: middle;\n",
       "    }\n",
       "\n",
       "    .dataframe tbody tr th {\n",
       "        vertical-align: top;\n",
       "    }\n",
       "\n",
       "    .dataframe thead th {\n",
       "        text-align: right;\n",
       "    }\n",
       "</style>\n",
       "<table border=\"1\" class=\"dataframe\">\n",
       "  <thead>\n",
       "    <tr style=\"text-align: right;\">\n",
       "      <th></th>\n",
       "      <th>name</th>\n",
       "      <th>gmap_id</th>\n",
       "      <th>latitude</th>\n",
       "      <th>longitude</th>\n",
       "      <th>avg_rating</th>\n",
       "      <th>num_of_reviews</th>\n",
       "      <th>hours</th>\n",
       "      <th>MISC</th>\n",
       "      <th>state</th>\n",
       "      <th>url</th>\n",
       "      <th>estado</th>\n",
       "      <th>subcategoria</th>\n",
       "    </tr>\n",
       "  </thead>\n",
       "  <tbody>\n",
       "    <tr>\n",
       "      <th>1</th>\n",
       "      <td>San Soo Dang</td>\n",
       "      <td>0x80c2c778e3b73d33:0xbdc58662a4a97d49</td>\n",
       "      <td>34.058092</td>\n",
       "      <td>-118.292130</td>\n",
       "      <td>4.4</td>\n",
       "      <td>18</td>\n",
       "      <td>[[Thursday, 6:30AM–6PM], [Friday, 6:30AM–6PM],...</td>\n",
       "      <td>{'Service options': ['Takeout', 'Dine-in', 'De...</td>\n",
       "      <td>Open ⋅ Closes 6PM</td>\n",
       "      <td>https://www.google.com/maps/place//data=!4m2!3...</td>\n",
       "      <td>CA</td>\n",
       "      <td>Restaurante</td>\n",
       "    </tr>\n",
       "    <tr>\n",
       "      <th>5</th>\n",
       "      <td>Vons Chicken</td>\n",
       "      <td>0x80dd2b4c8555edb7:0xfc33d65c4bdbef42</td>\n",
       "      <td>33.916402</td>\n",
       "      <td>-118.010855</td>\n",
       "      <td>4.5</td>\n",
       "      <td>18</td>\n",
       "      <td>[[Thursday, 11AM–9:30PM], [Friday, 11AM–9:30PM...</td>\n",
       "      <td>{'Service options': ['Outdoor seating', 'Curbs...</td>\n",
       "      <td>Open ⋅ Closes 9:30PM</td>\n",
       "      <td>https://www.google.com/maps/place//data=!4m2!3...</td>\n",
       "      <td>CA</td>\n",
       "      <td>Restaurante</td>\n",
       "    </tr>\n",
       "    <tr>\n",
       "      <th>24</th>\n",
       "      <td>Primo Pizza &amp; Subs</td>\n",
       "      <td>0x89c46d5e4554eae1:0xa2f8b211524ca29a</td>\n",
       "      <td>40.682177</td>\n",
       "      <td>-75.209820</td>\n",
       "      <td>4.5</td>\n",
       "      <td>25</td>\n",
       "      <td>[[Thursday, 11AM–9PM], [Friday, 11AM–10PM], [S...</td>\n",
       "      <td>{'Service options': ['No-contact delivery', 'D...</td>\n",
       "      <td>Open ⋅ Closes 9PM</td>\n",
       "      <td>https://www.google.com/maps/place//data=!4m2!3...</td>\n",
       "      <td>PA</td>\n",
       "      <td>Comida rápida</td>\n",
       "    </tr>\n",
       "    <tr>\n",
       "      <th>30</th>\n",
       "      <td>The Boochyard @ Local Roots</td>\n",
       "      <td>0x80dc7588a897ed91:0x190ac94f6ebb8c76</td>\n",
       "      <td>33.136034</td>\n",
       "      <td>-117.224863</td>\n",
       "      <td>4.9</td>\n",
       "      <td>38</td>\n",
       "      <td>[[Thursday, 3–8PM], [Friday, 3–9PM], [Saturday...</td>\n",
       "      <td>{'Service options': ['Delivery'], 'Accessibili...</td>\n",
       "      <td>Closed ⋅ Opens 3PM</td>\n",
       "      <td>https://www.google.com/maps/place//data=!4m2!3...</td>\n",
       "      <td>CA</td>\n",
       "      <td>Bar</td>\n",
       "    </tr>\n",
       "    <tr>\n",
       "      <th>31</th>\n",
       "      <td>Vivi Bubble Tea</td>\n",
       "      <td>0x89c6c89efcaed69d:0xded973f6033e7dba</td>\n",
       "      <td>39.940293</td>\n",
       "      <td>-75.150923</td>\n",
       "      <td>4.0</td>\n",
       "      <td>8</td>\n",
       "      <td>None</td>\n",
       "      <td>{'Service options': ['Delivery'], 'Amenities':...</td>\n",
       "      <td>None</td>\n",
       "      <td>https://www.google.com/maps/place//data=!4m2!3...</td>\n",
       "      <td>PA</td>\n",
       "      <td>Restaurante</td>\n",
       "    </tr>\n",
       "  </tbody>\n",
       "</table>\n",
       "</div>"
      ],
      "text/plain": [
       "                           name                                gmap_id  \\\n",
       "1                  San Soo Dang  0x80c2c778e3b73d33:0xbdc58662a4a97d49   \n",
       "5                  Vons Chicken  0x80dd2b4c8555edb7:0xfc33d65c4bdbef42   \n",
       "24           Primo Pizza & Subs  0x89c46d5e4554eae1:0xa2f8b211524ca29a   \n",
       "30  The Boochyard @ Local Roots  0x80dc7588a897ed91:0x190ac94f6ebb8c76   \n",
       "31              Vivi Bubble Tea  0x89c6c89efcaed69d:0xded973f6033e7dba   \n",
       "\n",
       "     latitude   longitude  avg_rating  num_of_reviews  \\\n",
       "1   34.058092 -118.292130         4.4              18   \n",
       "5   33.916402 -118.010855         4.5              18   \n",
       "24  40.682177  -75.209820         4.5              25   \n",
       "30  33.136034 -117.224863         4.9              38   \n",
       "31  39.940293  -75.150923         4.0               8   \n",
       "\n",
       "                                                hours  \\\n",
       "1   [[Thursday, 6:30AM–6PM], [Friday, 6:30AM–6PM],...   \n",
       "5   [[Thursday, 11AM–9:30PM], [Friday, 11AM–9:30PM...   \n",
       "24  [[Thursday, 11AM–9PM], [Friday, 11AM–10PM], [S...   \n",
       "30  [[Thursday, 3–8PM], [Friday, 3–9PM], [Saturday...   \n",
       "31                                               None   \n",
       "\n",
       "                                                 MISC                 state  \\\n",
       "1   {'Service options': ['Takeout', 'Dine-in', 'De...     Open ⋅ Closes 6PM   \n",
       "5   {'Service options': ['Outdoor seating', 'Curbs...  Open ⋅ Closes 9:30PM   \n",
       "24  {'Service options': ['No-contact delivery', 'D...     Open ⋅ Closes 9PM   \n",
       "30  {'Service options': ['Delivery'], 'Accessibili...    Closed ⋅ Opens 3PM   \n",
       "31  {'Service options': ['Delivery'], 'Amenities':...                  None   \n",
       "\n",
       "                                                  url estado   subcategoria  \n",
       "1   https://www.google.com/maps/place//data=!4m2!3...     CA    Restaurante  \n",
       "5   https://www.google.com/maps/place//data=!4m2!3...     CA    Restaurante  \n",
       "24  https://www.google.com/maps/place//data=!4m2!3...     PA  Comida rápida  \n",
       "30  https://www.google.com/maps/place//data=!4m2!3...     CA            Bar  \n",
       "31  https://www.google.com/maps/place//data=!4m2!3...     PA    Restaurante  "
      ]
     },
     "execution_count": 37,
     "metadata": {},
     "output_type": "execute_result"
    }
   ],
   "source": [
    "locales_gastronomicos.head()"
   ]
  },
  {
   "cell_type": "markdown",
   "metadata": {},
   "source": [
    "## Eliminamos columnas definidas en el EDA preliminar y la de category ya que usaremos la subcategoria"
   ]
  },
  {
   "cell_type": "code",
   "execution_count": null,
   "metadata": {},
   "outputs": [],
   "source": [
    "# Lista de columnas a eliminar\n",
    "columnas_a_eliminar = ['price', 'description', 'relative_results','category']\n",
    "# Eliminar las columnas\n",
    "locales_gastronomicos = locales_gastronomicos.drop(columns=columnas_a_eliminar)"
   ]
  },
  {
   "cell_type": "markdown",
   "metadata": {},
   "source": [
    "## Eliminamos los locales que estan cerrados permanentemente"
   ]
  },
  {
   "cell_type": "code",
   "execution_count": 38,
   "metadata": {},
   "outputs": [],
   "source": [
    "conteo = locales_gastronomicos['state'].value_counts()"
   ]
  },
  {
   "cell_type": "code",
   "execution_count": 39,
   "metadata": {},
   "outputs": [
    {
     "data": {
      "text/plain": [
       "state\n",
       "Permanently closed                       16518\n",
       "Closed ⋅ Opens 11AM                       4571\n",
       "Closed ⋅ Opens 10AM                       3072\n",
       "Open ⋅ Closes 9PM                         2882\n",
       "Closed ⋅ Opens 9AM                        2617\n",
       "                                         ...  \n",
       "Closes soon ⋅ 1:30AM ⋅ Reopens 12PM          1\n",
       "Closes soon ⋅ 12AM ⋅ Opens 12AM Mon          1\n",
       "Open ⋅ Closes 5:30AM Wed                     1\n",
       "Closes soon ⋅ 5PM ⋅ Opens 12:30PM Fri        1\n",
       "Closes soon ⋅ 9AM ⋅ Reopens 11AM             1\n",
       "Name: count, Length: 1556, dtype: int64"
      ]
     },
     "execution_count": 39,
     "metadata": {},
     "output_type": "execute_result"
    }
   ],
   "source": [
    "conteo"
   ]
  },
  {
   "cell_type": "code",
   "execution_count": 40,
   "metadata": {},
   "outputs": [],
   "source": [
    "locales_gastronomicos = locales_gastronomicos[locales_gastronomicos['state'] != 'Permanently closed']"
   ]
  },
  {
   "cell_type": "code",
   "execution_count": 41,
   "metadata": {},
   "outputs": [
    {
     "data": {
      "text/plain": [
       "subcategoria\n",
       "Restaurante      23165\n",
       "Bar              20794\n",
       "Comida rápida    10575\n",
       "Cafetería        10263\n",
       "Otro              2347\n",
       "Name: count, dtype: int64"
      ]
     },
     "execution_count": 41,
     "metadata": {},
     "output_type": "execute_result"
    }
   ],
   "source": [
    "conteo_subcat = locales_gastronomicos['subcategoria'].value_counts()\n",
    "conteo_subcat"
   ]
  },
  {
   "cell_type": "code",
   "execution_count": null,
   "metadata": {},
   "outputs": [],
   "source": []
  },
  {
   "cell_type": "code",
   "execution_count": null,
   "metadata": {},
   "outputs": [],
   "source": []
  },
  {
   "cell_type": "code",
   "execution_count": null,
   "metadata": {},
   "outputs": [],
   "source": []
  },
  {
   "cell_type": "markdown",
   "metadata": {},
   "source": [
    "## Posible funcion a utilizar en el sistema de recomendacion"
   ]
  },
  {
   "cell_type": "code",
   "execution_count": null,
   "metadata": {},
   "outputs": [],
   "source": [
    "# Convertir la cadena JSON en un objeto Python\n",
    "locales_gastronomicos['hours'] = locales_gastronomicos['hours'].apply(lambda x: json.loads(x))\n",
    "\n",
    "# Función para determinar si un local está abierto o cerrado en un día y hora específicos\n",
    "def esta_abierto(hours, timezone):\n",
    "    now = datetime.now(timezone)\n",
    "    day_of_week = now.strftime('%A')\n",
    "    current_time = now.time()\n",
    "    \n",
    "    for schedule in hours:\n",
    "        if schedule[0] == day_of_week:\n",
    "            start_time = datetime.strptime(schedule[1].split('–')[0], '%I%p').time()\n",
    "            end_time = datetime.strptime(schedule[1].split('–')[1], '%I%p').time()\n",
    "            \n",
    "            if start_time <= current_time <= end_time:\n",
    "                return 'Abierto'\n",
    "    \n",
    "    return 'Cerrado'\n",
    "\n",
    "# Aplicar la función a cada fila del DataFrame\n",
    "locales_gastronomicos['estado_actual'] = locales_gastronomicos.apply(lambda row: esta_abierto(row['hours'], row['timezone']), axis=1)\n",
    "\n",
    "# Imprimir el DataFrame con la nueva columna 'estado_actual'\n",
    "print(locales_gastronomicos[['name', 'estado_actual']])"
   ]
  }
 ],
 "metadata": {
  "kernelspec": {
   "display_name": "Python 3",
   "language": "python",
   "name": "python3"
  },
  "language_info": {
   "codemirror_mode": {
    "name": "ipython",
    "version": 3
   },
   "file_extension": ".py",
   "mimetype": "text/x-python",
   "name": "python",
   "nbconvert_exporter": "python",
   "pygments_lexer": "ipython3",
   "version": "3.11.1"
  }
 },
 "nbformat": 4,
 "nbformat_minor": 2
}
